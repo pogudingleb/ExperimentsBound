{
 "cells": [
  {
   "cell_type": "code",
   "execution_count": 1,
   "metadata": {},
   "outputs": [
    {
     "data": {
      "text/html": [
       "$\\require{action}$"
      ]
     },
     "metadata": {},
     "output_type": "display_data"
    },
    {
     "name": "stdout",
     "output_type": "stream",
     "text": [
      " -----    -----    -----      -      -----   \n",
      "|     |  |     |  |     |    | |    |     |  \n",
      "|     |  |        |         |   |   |     |  \n",
      "|     |   -----   |        |     |  |-----   \n",
      "|     |        |  |        |-----|  |   |    \n",
      "|     |  |     |  |     |  |     |  |    |   \n",
      " -----    -----    -----   -     -  -     -  \n",
      "\n",
      "...combining (and extending) GAP, Hecke, Nemo, Polymake and Singular\n",
      "Version\u001b[32m 0.3.0 \u001b[39m... \n",
      " ... which comes with absolutely no warranty whatsoever\n",
      "Type: '?Oscar' for more information\n",
      "(c) 2019-2020 by The Oscar Development Team\n"
     ]
    },
    {
     "data": {
      "text/plain": [
       "bound_number_experiments (generic function with 2 methods)"
      ]
     },
     "execution_count": 1,
     "metadata": {},
     "output_type": "execute_result"
    }
   ],
   "source": [
    "using BenchmarkTools\n",
    "include(\"../experiments_bounds.jl\")"
   ]
  },
  {
   "cell_type": "code",
   "execution_count": 2,
   "metadata": {},
   "outputs": [
    {
     "data": {
      "text/html": [
       "(Multivariate Polynomial Ring in x1, x2, mu1, mu2 over Rational Field, [fmpq_mpoly[x1, x2, mu1, mu2])"
      ],
      "text/plain": [
       "(Multivariate Polynomial Ring in x1, x2, mu1, mu2 over Rational Field, fmpq_mpoly[x1, x2, mu1, mu2])"
      ]
     },
     "execution_count": 2,
     "metadata": {},
     "output_type": "execute_result"
    }
   ],
   "source": [
    "R, (x1, x2, mu1, mu2) = PolynomialRing(QQ, [\"x1\", \"x2\", \"mu1\", \"mu2\"])"
   ]
  },
  {
   "cell_type": "code",
   "execution_count": 3,
   "metadata": {},
   "outputs": [
    {
     "data": {
      "text/plain": [
       "ODE(Multivariate Polynomial Ring in x1, x2, mu1, mu2 over Rational Field, fmpq_mpoly[x1, x2], Any[], fmpq_mpoly[mu1, mu2], Dict{fmpq_mpoly,fmpq_mpoly}(x1 => 0,x2 => x1*x2 + x1*mu1 + mu2))"
      ]
     },
     "execution_count": 3,
     "metadata": {},
     "output_type": "execute_result"
    }
   ],
   "source": [
    "ode = ODE(Dict(\n",
    "    x1 => R(0),\n",
    "    x2 => x1 * x2 + mu1 * x1 + mu2\n",
    "), [])"
   ]
  },
  {
   "cell_type": "code",
   "execution_count": 5,
   "metadata": {},
   "outputs": [
    {
     "name": "stdout",
     "output_type": "stream",
     "text": [
      "  8.371 ms (190512 allocations: 13.22 MiB)\n"
     ]
    },
    {
     "data": {
      "text/plain": [
       "(loc = 2, glob = 3)"
      ]
     },
     "execution_count": 5,
     "metadata": {},
     "output_type": "execute_result"
    }
   ],
   "source": [
    "# compiles the function and runs a number of times, outputs the mean runtime\n",
    "@btime bound_number_experiments(ode, [x2])"
   ]
  },
  {
   "cell_type": "code",
   "execution_count": 6,
   "metadata": {},
   "outputs": [
    {
     "data": {
      "text/plain": [
       "(loc = 2, glob = 3)"
      ]
     },
     "execution_count": 6,
     "metadata": {},
     "output_type": "execute_result"
    }
   ],
   "source": [
    "bound_number_experiments(ode, [x2])"
   ]
  },
  {
   "cell_type": "code",
   "execution_count": null,
   "metadata": {},
   "outputs": [],
   "source": []
  }
 ],
 "metadata": {
  "kernelspec": {
   "display_name": "Julia 1.4.2",
   "language": "julia",
   "name": "julia-1.4"
  },
  "language_info": {
   "file_extension": ".jl",
   "mimetype": "application/julia",
   "name": "julia",
   "version": "1.4.2"
  }
 },
 "nbformat": 4,
 "nbformat_minor": 4
}
