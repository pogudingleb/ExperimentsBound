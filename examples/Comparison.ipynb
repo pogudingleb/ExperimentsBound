{
 "cells": [
  {
   "cell_type": "markdown",
   "metadata": {},
   "source": [
    "### Models from [Computing all identifiable functions for ODE models](https://arxiv.org/abs/2004.07774)\n",
    "\n",
    "In this notebook, we run the algorithm on the example collected in Section 5 of [Computing all identifiable functions for ODE models](https://arxiv.org/abs/2004.07774)."
   ]
  },
  {
   "cell_type": "code",
   "execution_count": 1,
   "metadata": {},
   "outputs": [
    {
     "data": {
      "text/html": [
       "$\\require{action}$"
      ]
     },
     "metadata": {},
     "output_type": "display_data"
    },
    {
     "name": "stdout",
     "output_type": "stream",
     "text": [
      " -----    -----    -----      -      -----   \n",
      "|     |  |     |  |     |    | |    |     |  \n",
      "|     |  |        |         |   |   |     |  \n",
      "|     |   -----   |        |     |  |-----   \n",
      "|     |        |  |        |-----|  |   |    \n",
      "|     |  |     |  |     |  |     |  |    |   \n",
      " -----    -----    -----   -     -  -     -  \n",
      "\n",
      "...combining (and extending) ANTIC, GAP, Polymake and Singular\n",
      "Version\u001b[32m 0.5.0 \u001b[39m... \n",
      " ... which comes with absolutely no warranty whatsoever\n",
      "Type: '?Oscar' for more information\n",
      "(c) 2019-2020 by The Oscar Development Team\n"
     ]
    }
   ],
   "source": [
    "using BenchmarkTools\n",
    "include(\"../experiments_bounds.jl\");"
   ]
  },
  {
   "cell_type": "markdown",
   "metadata": {},
   "source": [
    "### Lotka-Volterra model with control (Section 5.1)"
   ]
  },
  {
   "cell_type": "code",
   "execution_count": 2,
   "metadata": {},
   "outputs": [
    {
     "name": "stdout",
     "output_type": "stream",
     "text": [
      "Summary of the model:\n",
      "State variables: x2, x1\n",
      "Parameter: a, b, d, e, c\n",
      "Inputs: u\n"
     ]
    }
   ],
   "source": [
    "ode = @ODEmodel(\n",
    "    x1'(t) = a * x1(t) - b * x1(t) * x2(t),\n",
    "    x2'(t) = -c * x2(t) + d * x1(t) * x2(t) + e * u(t)\n",
    ");"
   ]
  },
  {
   "cell_type": "code",
   "execution_count": 3,
   "metadata": {},
   "outputs": [
    {
     "name": "stdout",
     "output_type": "stream",
     "text": [
      "  4.958 ms (69896 allocations: 6.78 MiB)\n"
     ]
    },
    {
     "data": {
      "text/plain": [
       "(loc = 1, glob = 2)"
      ]
     },
     "execution_count": 3,
     "metadata": {},
     "output_type": "execute_result"
    }
   ],
   "source": [
    "@btime bound_number_experiments(ode, [x1])"
   ]
  },
  {
   "cell_type": "markdown",
   "metadata": {},
   "source": [
    "The bound obtained in the [paper](https://arxiv.org/abs/2004.07774) is one. The computation time is 300 ms."
   ]
  },
  {
   "cell_type": "markdown",
   "metadata": {},
   "source": [
    "### Slow-fast ambiguity (Section 5.2)"
   ]
  },
  {
   "cell_type": "code",
   "execution_count": 4,
   "metadata": {},
   "outputs": [
    {
     "name": "stdout",
     "output_type": "stream",
     "text": [
      "Summary of the model:\n",
      "State variables: xC, eB, xA, eA, xB\n",
      "Parameter: k1, k2\n",
      "Inputs: \n"
     ]
    }
   ],
   "source": [
    "ode = @ODEmodel(\n",
    "    xA'(t) = -k1 * xA(t),\n",
    "    xB'(t) = k1 * xA(t) - k2 * xB(t),\n",
    "    xC'(t) = k2 * xB(t),\n",
    "    eA'(t) = 0,\n",
    "    eB'(t) = 0,\n",
    "    [eC]\n",
    ");"
   ]
  },
  {
   "cell_type": "code",
   "execution_count": 5,
   "metadata": {},
   "outputs": [
    {
     "name": "stdout",
     "output_type": "stream",
     "text": [
      "  24.747 ms (401331 allocations: 41.58 MiB)\n"
     ]
    },
    {
     "data": {
      "text/plain": [
       "(loc = 1, glob = 2)"
      ]
     },
     "execution_count": 5,
     "metadata": {},
     "output_type": "execute_result"
    }
   ],
   "source": [
    "@btime bound_number_experiments(ode, [xC, eA * xA + eB * xB + eC * xC, eA, eC])"
   ]
  },
  {
   "cell_type": "markdown",
   "metadata": {},
   "source": [
    "The bound obtained in the [paper](https://arxiv.org/abs/2004.07774) is two. The computation time is 370 ms."
   ]
  },
  {
   "cell_type": "markdown",
   "metadata": {},
   "source": [
    "### Lotka-Volterra with \"mixed\" outputs (Section 5.3)"
   ]
  },
  {
   "cell_type": "code",
   "execution_count": 6,
   "metadata": {},
   "outputs": [
    {
     "name": "stdout",
     "output_type": "stream",
     "text": [
      "Summary of the model:\n",
      "State variables: f, x2, x1\n",
      "Parameter: a, b, d, c\n",
      "Inputs: \n"
     ]
    }
   ],
   "source": [
    "ode = @ODEmodel(\n",
    "    x1'(t) = a * x1(t) - b * x1(t) * x2(t),\n",
    "    x2'(t) = -c * x2(t) + d * x1(t) * x2(t),\n",
    "    f'(t) = 0,\n",
    "    [e]\n",
    ");"
   ]
  },
  {
   "cell_type": "code",
   "execution_count": 7,
   "metadata": {},
   "outputs": [
    {
     "name": "stdout",
     "output_type": "stream",
     "text": [
      "  9.528 ms (134242 allocations: 13.29 MiB)\n"
     ]
    },
    {
     "data": {
      "text/plain": [
       "(loc = 1, glob = 2)"
      ]
     },
     "execution_count": 7,
     "metadata": {},
     "output_type": "execute_result"
    }
   ],
   "source": [
    "@btime bound_number_experiments(ode, [e * x1 + f * x2, f])"
   ]
  },
  {
   "cell_type": "markdown",
   "metadata": {},
   "source": [
    "The bound obtained in the [paper](https://arxiv.org/abs/2004.07774) (using a special trick) is four. The computation time is 15 sec."
   ]
  },
  {
   "cell_type": "markdown",
   "metadata": {},
   "source": [
    "### SEIR (Section 5.4)"
   ]
  },
  {
   "cell_type": "code",
   "execution_count": 8,
   "metadata": {},
   "outputs": [
    {
     "name": "stdout",
     "output_type": "stream",
     "text": [
      "Summary of the model:\n",
      "State variables: I, N, S, E\n",
      "Parameter: a, b, nu\n",
      "Inputs: \n"
     ]
    }
   ],
   "source": [
    "ode = @ODEmodel(\n",
    "    S'(t) = -b * S(t) * I(t) / N(t),\n",
    "    E'(t) = b * S(t) * I(t) / N(t) - nu * E(t),\n",
    "    I'(t) = nu * E(t) - a * I(t),\n",
    "    N'(t) = 0\n",
    ");"
   ]
  },
  {
   "cell_type": "code",
   "execution_count": 9,
   "metadata": {},
   "outputs": [
    {
     "name": "stdout",
     "output_type": "stream",
     "text": [
      "  21.638 ms (222296 allocations: 22.67 MiB)\n"
     ]
    },
    {
     "data": {
      "text/plain": [
       "(loc = 1, glob = 2)"
      ]
     },
     "execution_count": 9,
     "metadata": {},
     "output_type": "execute_result"
    }
   ],
   "source": [
    "@btime bound_number_experiments(ode, [I, N])"
   ]
  },
  {
   "cell_type": "markdown",
   "metadata": {},
   "source": [
    "The bound obtained in the [paper](https://arxiv.org/abs/2004.07774) is one. The computation time is 1 sec."
   ]
  },
  {
   "cell_type": "code",
   "execution_count": 10,
   "metadata": {},
   "outputs": [
    {
     "name": "stdout",
     "output_type": "stream",
     "text": [
      "Summary of the model:\n",
      "State variables: I, N, S, E, C\n",
      "Parameter: a, b, nu\n",
      "Inputs: \n"
     ]
    }
   ],
   "source": [
    "ode = @ODEmodel(\n",
    "    S'(t) = -b * S(t) * I(t) / N(t),\n",
    "    E'(t) = b * S(t) * I(t) / N(t) - nu * E(t),\n",
    "    I'(t) = nu * E(t) - a * I(t),\n",
    "    N'(t) = 0,\n",
    "    C'(t) = nu * E(t)\n",
    ");"
   ]
  },
  {
   "cell_type": "code",
   "execution_count": 11,
   "metadata": {},
   "outputs": [
    {
     "name": "stdout",
     "output_type": "stream",
     "text": [
      "  32.834 ms (374866 allocations: 39.13 MiB)\n"
     ]
    },
    {
     "data": {
      "text/plain": [
       "(loc = 1, glob = 2)"
      ]
     },
     "execution_count": 11,
     "metadata": {},
     "output_type": "execute_result"
    }
   ],
   "source": [
    "@btime bound_number_experiments(ode, [C, N])"
   ]
  },
  {
   "cell_type": "markdown",
   "metadata": {},
   "source": [
    "The bound obtained in the [paper](https://arxiv.org/abs/2004.07774) is one. The computation time is 340 sec."
   ]
  },
  {
   "cell_type": "code",
   "execution_count": null,
   "metadata": {},
   "outputs": [],
   "source": []
  }
 ],
 "metadata": {
  "kernelspec": {
   "display_name": "Julia 1.5.2",
   "language": "julia",
   "name": "julia-1.5"
  },
  "language_info": {
   "file_extension": ".jl",
   "mimetype": "application/julia",
   "name": "julia",
   "version": "1.5.2"
  }
 },
 "nbformat": 4,
 "nbformat_minor": 4
}
