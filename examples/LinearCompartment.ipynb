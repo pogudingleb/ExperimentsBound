{
 "cells": [
  {
   "cell_type": "markdown",
   "metadata": {},
   "source": [
    "## Linear compartment models with constant input\n",
    "\n",
    "We consider three series of linear compartment models: cyclic, catenary, and mamillary. For each of the models, we replace each reaction rate $a_{ij}$ with $b_{ij} + c_{ij}x_0$, where $b_{ij}$ and $c_{ij}$ are scalar parameters, and $x_0$ is a constant input. We report the results and runtimes."
   ]
  },
  {
   "cell_type": "code",
   "execution_count": 1,
   "metadata": {},
   "outputs": [
    {
     "data": {
      "text/html": [
       "$\\require{action}$"
      ]
     },
     "metadata": {},
     "output_type": "display_data"
    },
    {
     "name": "stdout",
     "output_type": "stream",
     "text": [
      " -----    -----    -----      -      -----   \n",
      "|     |  |     |  |     |    | |    |     |  \n",
      "|     |  |        |         |   |   |     |  \n",
      "|     |   -----   |        |     |  |-----   \n",
      "|     |        |  |        |-----|  |   |    \n",
      "|     |  |     |  |     |  |     |  |    |   \n",
      " -----    -----    -----   -     -  -     -  \n",
      "\n",
      "...combining (and extending) ANTIC, GAP, Polymake and Singular\n",
      "Version\u001b[32m 0.5.0 \u001b[39m... \n",
      " ... which comes with absolutely no warranty whatsoever\n",
      "Type: '?Oscar' for more information\n",
      "(c) 2019-2020 by The Oscar Development Team\n"
     ]
    }
   ],
   "source": [
    "using BenchmarkTools\n",
    "using DataFrames\n",
    "include(\"../experiments_bounds.jl\")\n",
    "include(\"linear_compartment.jl\");"
   ]
  },
  {
   "cell_type": "code",
   "execution_count": 2,
   "metadata": {},
   "outputs": [],
   "source": [
    "function run_model(func, min_n, max_n)\n",
    "    \"\"\"\n",
    "    func is a function for generating a model:\n",
    "    cycle, catenary, mammilary\n",
    "    min_n and max_n define the range of sizes to test\n",
    "    \"\"\"\n",
    "    results = []\n",
    "    runtimes = []\n",
    "    for n in min_n:max_n\n",
    "        ode = linear_compartment_model(func(n), [1])\n",
    "        x1 = gens(ode.poly_ring)[2]\n",
    "        time = @belapsed bound_number_experiments($ode, [$x1])\n",
    "        bnd = bound_number_experiments(ode, [x1])\n",
    "        push!(results, bnd)\n",
    "        push!(runtimes, time)\n",
    "    end\n",
    "    return df = DataFrame(n = min_n:max_n, results = results, runtimes = runtimes)\n",
    "end;"
   ]
  },
  {
   "cell_type": "code",
   "execution_count": 3,
   "metadata": {},
   "outputs": [
    {
     "data": {
      "text/html": [
       "<table class=\"data-frame\"><thead><tr><th></th><th>n</th><th>results</th><th>runtimes</th></tr><tr><th></th><th>Int64</th><th>Any</th><th>Any</th></tr></thead><tbody><p>13 rows × 3 columns</p><tr><th>1</th><td>3</td><td>(loc = 3, glob = 4)</td><td>0.244285</td></tr><tr><th>2</th><td>4</td><td>(loc = 3, glob = 4)</td><td>0.432294</td></tr><tr><th>3</th><td>5</td><td>(loc = 3, glob = 4)</td><td>0.886086</td></tr><tr><th>4</th><td>6</td><td>(loc = 3, glob = 4)</td><td>1.53951</td></tr><tr><th>5</th><td>7</td><td>(loc = 3, glob = 4)</td><td>2.38671</td></tr><tr><th>6</th><td>8</td><td>(loc = 3, glob = 4)</td><td>3.61151</td></tr><tr><th>7</th><td>9</td><td>(loc = 3, glob = 4)</td><td>5.07298</td></tr><tr><th>8</th><td>10</td><td>(loc = 3, glob = 4)</td><td>9.25867</td></tr><tr><th>9</th><td>11</td><td>(loc = 3, glob = 4)</td><td>12.4893</td></tr><tr><th>10</th><td>12</td><td>(loc = 3, glob = 4)</td><td>18.7915</td></tr><tr><th>11</th><td>13</td><td>(loc = 3, glob = 4)</td><td>24.3729</td></tr><tr><th>12</th><td>14</td><td>(loc = 3, glob = 4)</td><td>31.015</td></tr><tr><th>13</th><td>15</td><td>(loc = 3, glob = 4)</td><td>39.4861</td></tr></tbody></table>"
      ],
      "text/latex": [
       "\\begin{tabular}{r|ccc}\n",
       "\t& n & results & runtimes\\\\\n",
       "\t\\hline\n",
       "\t& Int64 & Any & Any\\\\\n",
       "\t\\hline\n",
       "\t1 & 3 & (loc = 3, glob = 4) & 0 . 2 4 4 2 8 5 0 8 3 \\\\\n",
       "\t2 & 4 & (loc = 3, glob = 4) & 0 . 4 3 2 2 9 4 0 5 4 \\\\\n",
       "\t3 & 5 & (loc = 3, glob = 4) & 0 . 8 8 6 0 8 5 9 1 7 \\\\\n",
       "\t4 & 6 & (loc = 3, glob = 4) & 1 . 5 3 9 5 0 9 5 9 2 \\\\\n",
       "\t5 & 7 & (loc = 3, glob = 4) & 2 . 3 8 6 7 0 9 4 1 9 \\\\\n",
       "\t6 & 8 & (loc = 3, glob = 4) & 3 . 6 1 1 5 1 4 9 5 9 \\\\\n",
       "\t7 & 9 & (loc = 3, glob = 4) & 5 . 0 7 2 9 8 0 3 9 3 \\\\\n",
       "\t8 & 10 & (loc = 3, glob = 4) & 9 . 2 5 8 6 6 5 1 8 5 \\\\\n",
       "\t9 & 11 & (loc = 3, glob = 4) & 1 2 . 4 8 9 3 4 2 0 5 4 \\\\\n",
       "\t10 & 12 & (loc = 3, glob = 4) & 1 8 . 7 9 1 4 5 3 4 9 6 \\\\\n",
       "\t11 & 13 & (loc = 3, glob = 4) & 2 4 . 3 7 2 9 0 8 3 0 1 \\\\\n",
       "\t12 & 14 & (loc = 3, glob = 4) & 3 1 . 0 1 4 9 5 8 5 5 2 \\\\\n",
       "\t13 & 15 & (loc = 3, glob = 4) & 3 9 . 4 8 6 0 6 5 8 0 3 \\\\\n",
       "\\end{tabular}\n"
      ],
      "text/plain": [
       "13×3 DataFrame\n",
       "│ Row │ n     │ results             │ runtimes │\n",
       "│     │ \u001b[90mInt64\u001b[39m │ \u001b[90mAny\u001b[39m                 │ \u001b[90mAny\u001b[39m      │\n",
       "├─────┼───────┼─────────────────────┼──────────┤\n",
       "│ 1   │ 3     │ (loc = 3, glob = 4) │ 0.244285 │\n",
       "│ 2   │ 4     │ (loc = 3, glob = 4) │ 0.432294 │\n",
       "│ 3   │ 5     │ (loc = 3, glob = 4) │ 0.886086 │\n",
       "│ 4   │ 6     │ (loc = 3, glob = 4) │ 1.53951  │\n",
       "│ 5   │ 7     │ (loc = 3, glob = 4) │ 2.38671  │\n",
       "│ 6   │ 8     │ (loc = 3, glob = 4) │ 3.61151  │\n",
       "│ 7   │ 9     │ (loc = 3, glob = 4) │ 5.07298  │\n",
       "│ 8   │ 10    │ (loc = 3, glob = 4) │ 9.25867  │\n",
       "│ 9   │ 11    │ (loc = 3, glob = 4) │ 12.4893  │\n",
       "│ 10  │ 12    │ (loc = 3, glob = 4) │ 18.7915  │\n",
       "│ 11  │ 13    │ (loc = 3, glob = 4) │ 24.3729  │\n",
       "│ 12  │ 14    │ (loc = 3, glob = 4) │ 31.015   │\n",
       "│ 13  │ 15    │ (loc = 3, glob = 4) │ 39.4861  │"
      ]
     },
     "execution_count": 3,
     "metadata": {},
     "output_type": "execute_result"
    }
   ],
   "source": [
    "run_model(cycle, 3, 15)"
   ]
  },
  {
   "cell_type": "code",
   "execution_count": 4,
   "metadata": {},
   "outputs": [
    {
     "data": {
      "text/html": [
       "<table class=\"data-frame\"><thead><tr><th></th><th>n</th><th>results</th><th>runtimes</th></tr><tr><th></th><th>Int64</th><th>Any</th><th>Any</th></tr></thead><tbody><p>13 rows × 3 columns</p><tr><th>1</th><td>3</td><td>(loc = 4, glob = 5)</td><td>0.461768</td></tr><tr><th>2</th><td>4</td><td>(loc = 5, glob = 6)</td><td>1.96651</td></tr><tr><th>3</th><td>5</td><td>(loc = 5, glob = 6)</td><td>3.78969</td></tr><tr><th>4</th><td>6</td><td>(loc = 5, glob = 6)</td><td>7.00651</td></tr><tr><th>5</th><td>7</td><td>(loc = 5, glob = 6)</td><td>13.2395</td></tr><tr><th>6</th><td>8</td><td>(loc = 5, glob = 6)</td><td>21.0293</td></tr><tr><th>7</th><td>9</td><td>(loc = 5, glob = 6)</td><td>29.9834</td></tr><tr><th>8</th><td>10</td><td>(loc = 5, glob = 6)</td><td>43.0187</td></tr><tr><th>9</th><td>11</td><td>(loc = 5, glob = 6)</td><td>64.1456</td></tr><tr><th>10</th><td>12</td><td>(loc = 5, glob = 6)</td><td>80.6741</td></tr><tr><th>11</th><td>13</td><td>(loc = 5, glob = 6)</td><td>130.191</td></tr><tr><th>12</th><td>14</td><td>(loc = 5, glob = 6)</td><td>194.759</td></tr><tr><th>13</th><td>15</td><td>(loc = 5, glob = 6)</td><td>323.219</td></tr></tbody></table>"
      ],
      "text/latex": [
       "\\begin{tabular}{r|ccc}\n",
       "\t& n & results & runtimes\\\\\n",
       "\t\\hline\n",
       "\t& Int64 & Any & Any\\\\\n",
       "\t\\hline\n",
       "\t1 & 3 & (loc = 4, glob = 5) & 0 . 4 6 1 7 6 8 1 2 2 \\\\\n",
       "\t2 & 4 & (loc = 5, glob = 6) & 1 . 9 6 6 5 1 0 4 5 5 \\\\\n",
       "\t3 & 5 & (loc = 5, glob = 6) & 3 . 7 8 9 6 8 7 9 2 7 \\\\\n",
       "\t4 & 6 & (loc = 5, glob = 6) & 7 . 0 0 6 5 0 6 9 2 6 \\\\\n",
       "\t5 & 7 & (loc = 5, glob = 6) & 1 3 . 2 3 9 5 4 1 0 2 7 \\\\\n",
       "\t6 & 8 & (loc = 5, glob = 6) & 2 1 . 0 2 9 3 1 3 7 9 4 \\\\\n",
       "\t7 & 9 & (loc = 5, glob = 6) & 2 9 . 9 8 3 3 9 1 5 3 8 \\\\\n",
       "\t8 & 10 & (loc = 5, glob = 6) & 4 3 . 0 1 8 6 7 6 4 0 5 \\\\\n",
       "\t9 & 11 & (loc = 5, glob = 6) & 6 4 . 1 4 5 5 6 5 0 2 7 \\\\\n",
       "\t10 & 12 & (loc = 5, glob = 6) & 8 0 . 6 7 4 1 2 6 8 0 3 \\\\\n",
       "\t11 & 13 & (loc = 5, glob = 6) & 1 3 0 . 1 9 0 7 3 7 9 5 3 \\\\\n",
       "\t12 & 14 & (loc = 5, glob = 6) & 1 9 4 . 7 5 8 6 1 5 6 5 1 \\\\\n",
       "\t13 & 15 & (loc = 5, glob = 6) & 3 2 3 . 2 1 9 1 5 2 6 4 6 \\\\\n",
       "\\end{tabular}\n"
      ],
      "text/plain": [
       "13×3 DataFrame\n",
       "│ Row │ n     │ results             │ runtimes │\n",
       "│     │ \u001b[90mInt64\u001b[39m │ \u001b[90mAny\u001b[39m                 │ \u001b[90mAny\u001b[39m      │\n",
       "├─────┼───────┼─────────────────────┼──────────┤\n",
       "│ 1   │ 3     │ (loc = 4, glob = 5) │ 0.461768 │\n",
       "│ 2   │ 4     │ (loc = 5, glob = 6) │ 1.96651  │\n",
       "│ 3   │ 5     │ (loc = 5, glob = 6) │ 3.78969  │\n",
       "│ 4   │ 6     │ (loc = 5, glob = 6) │ 7.00651  │\n",
       "│ 5   │ 7     │ (loc = 5, glob = 6) │ 13.2395  │\n",
       "│ 6   │ 8     │ (loc = 5, glob = 6) │ 21.0293  │\n",
       "│ 7   │ 9     │ (loc = 5, glob = 6) │ 29.9834  │\n",
       "│ 8   │ 10    │ (loc = 5, glob = 6) │ 43.0187  │\n",
       "│ 9   │ 11    │ (loc = 5, glob = 6) │ 64.1456  │\n",
       "│ 10  │ 12    │ (loc = 5, glob = 6) │ 80.6741  │\n",
       "│ 11  │ 13    │ (loc = 5, glob = 6) │ 130.191  │\n",
       "│ 12  │ 14    │ (loc = 5, glob = 6) │ 194.759  │\n",
       "│ 13  │ 15    │ (loc = 5, glob = 6) │ 323.219  │"
      ]
     },
     "execution_count": 4,
     "metadata": {},
     "output_type": "execute_result"
    }
   ],
   "source": [
    "run_model(catenary, 3, 15)"
   ]
  },
  {
   "cell_type": "code",
   "execution_count": 5,
   "metadata": {},
   "outputs": [
    {
     "data": {
      "text/html": [
       "<table class=\"data-frame\"><thead><tr><th></th><th>n</th><th>results</th><th>runtimes</th></tr><tr><th></th><th>Int64</th><th>Any</th><th>Any</th></tr></thead><tbody><p>13 rows × 3 columns</p><tr><th>1</th><td>3</td><td>(loc = 4, glob = 5)</td><td>0.46369</td></tr><tr><th>2</th><td>4</td><td>(loc = 5, glob = 6)</td><td>1.91757</td></tr><tr><th>3</th><td>5</td><td>(loc = 5, glob = 6)</td><td>3.72879</td></tr><tr><th>4</th><td>6</td><td>(loc = 5, glob = 6)</td><td>6.94631</td></tr><tr><th>5</th><td>7</td><td>(loc = 5, glob = 6)</td><td>13.2</td></tr><tr><th>6</th><td>8</td><td>(loc = 5, glob = 6)</td><td>21.1801</td></tr><tr><th>7</th><td>9</td><td>(loc = 5, glob = 6)</td><td>30.1944</td></tr><tr><th>8</th><td>10</td><td>(loc = 5, glob = 6)</td><td>43.2578</td></tr><tr><th>9</th><td>11</td><td>(loc = 5, glob = 6)</td><td>64.1186</td></tr><tr><th>10</th><td>12</td><td>(loc = 5, glob = 6)</td><td>81.0977</td></tr><tr><th>11</th><td>13</td><td>(loc = 5, glob = 6)</td><td>130.251</td></tr><tr><th>12</th><td>14</td><td>(loc = 5, glob = 6)</td><td>195.22</td></tr><tr><th>13</th><td>15</td><td>(loc = 5, glob = 6)</td><td>316.124</td></tr></tbody></table>"
      ],
      "text/latex": [
       "\\begin{tabular}{r|ccc}\n",
       "\t& n & results & runtimes\\\\\n",
       "\t\\hline\n",
       "\t& Int64 & Any & Any\\\\\n",
       "\t\\hline\n",
       "\t1 & 3 & (loc = 4, glob = 5) & 0 . 4 6 3 6 8 9 6 4 \\\\\n",
       "\t2 & 4 & (loc = 5, glob = 6) & 1 . 9 1 7 5 6 8 7 2 8 \\\\\n",
       "\t3 & 5 & (loc = 5, glob = 6) & 3 . 7 2 8 7 8 6 8 6 1 \\\\\n",
       "\t4 & 6 & (loc = 5, glob = 6) & 6 . 9 4 6 3 1 4 7 2 6 \\\\\n",
       "\t5 & 7 & (loc = 5, glob = 6) & 1 3 . 1 9 9 9 8 1 9 9 6 \\\\\n",
       "\t6 & 8 & (loc = 5, glob = 6) & 2 1 . 1 8 0 1 4 7 9 2 2 \\\\\n",
       "\t7 & 9 & (loc = 5, glob = 6) & 3 0 . 1 9 4 3 9 1 1 7 \\\\\n",
       "\t8 & 10 & (loc = 5, glob = 6) & 4 3 . 2 5 7 8 1 4 5 5 2 \\\\\n",
       "\t9 & 11 & (loc = 5, glob = 6) & 6 4 . 1 1 8 6 4 2 1 1 8 \\\\\n",
       "\t10 & 12 & (loc = 5, glob = 6) & 8 1 . 0 9 7 7 4 3 3 3 9 \\\\\n",
       "\t11 & 13 & (loc = 5, glob = 6) & 1 3 0 . 2 5 0 5 6 5 1 4 2 \\\\\n",
       "\t12 & 14 & (loc = 5, glob = 6) & 1 9 5 . 2 1 9 6 7 4 6 1 \\\\\n",
       "\t13 & 15 & (loc = 5, glob = 6) & 3 1 6 . 1 2 3 6 7 3 5 0 2 \\\\\n",
       "\\end{tabular}\n"
      ],
      "text/plain": [
       "13×3 DataFrame\n",
       "│ Row │ n     │ results             │ runtimes │\n",
       "│     │ \u001b[90mInt64\u001b[39m │ \u001b[90mAny\u001b[39m                 │ \u001b[90mAny\u001b[39m      │\n",
       "├─────┼───────┼─────────────────────┼──────────┤\n",
       "│ 1   │ 3     │ (loc = 4, glob = 5) │ 0.46369  │\n",
       "│ 2   │ 4     │ (loc = 5, glob = 6) │ 1.91757  │\n",
       "│ 3   │ 5     │ (loc = 5, glob = 6) │ 3.72879  │\n",
       "│ 4   │ 6     │ (loc = 5, glob = 6) │ 6.94631  │\n",
       "│ 5   │ 7     │ (loc = 5, glob = 6) │ 13.2     │\n",
       "│ 6   │ 8     │ (loc = 5, glob = 6) │ 21.1801  │\n",
       "│ 7   │ 9     │ (loc = 5, glob = 6) │ 30.1944  │\n",
       "│ 8   │ 10    │ (loc = 5, glob = 6) │ 43.2578  │\n",
       "│ 9   │ 11    │ (loc = 5, glob = 6) │ 64.1186  │\n",
       "│ 10  │ 12    │ (loc = 5, glob = 6) │ 81.0977  │\n",
       "│ 11  │ 13    │ (loc = 5, glob = 6) │ 130.251  │\n",
       "│ 12  │ 14    │ (loc = 5, glob = 6) │ 195.22   │\n",
       "│ 13  │ 15    │ (loc = 5, glob = 6) │ 316.124  │"
      ]
     },
     "execution_count": 5,
     "metadata": {},
     "output_type": "execute_result"
    }
   ],
   "source": [
    "run_model(mammilary, 3, 15)"
   ]
  },
  {
   "cell_type": "code",
   "execution_count": null,
   "metadata": {},
   "outputs": [],
   "source": []
  }
 ],
 "metadata": {
  "kernelspec": {
   "display_name": "Julia 1.5.0",
   "language": "julia",
   "name": "julia-1.5"
  },
  "language_info": {
   "file_extension": ".jl",
   "mimetype": "application/julia",
   "name": "julia",
   "version": "1.5.2"
  }
 },
 "nbformat": 4,
 "nbformat_minor": 4
}
