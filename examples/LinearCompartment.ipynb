{
 "cells": [
  {
   "cell_type": "code",
   "execution_count": 1,
   "metadata": {},
   "outputs": [
    {
     "data": {
      "text/html": [
       "$\\require{action}$"
      ]
     },
     "metadata": {},
     "output_type": "display_data"
    },
    {
     "name": "stdout",
     "output_type": "stream",
     "text": [
      " -----    -----    -----      -      -----   \n",
      "|     |  |     |  |     |    | |    |     |  \n",
      "|     |  |        |         |   |   |     |  \n",
      "|     |   -----   |        |     |  |-----   \n",
      "|     |        |  |        |-----|  |   |    \n",
      "|     |  |     |  |     |  |     |  |    |   \n",
      " -----    -----    -----   -     -  -     -  \n",
      "\n",
      "...combining (and extending) GAP, Hecke, Nemo, Polymake and Singular\n",
      "Version\u001b[32m 0.3.0 \u001b[39m... \n",
      " ... which comes with absolutely no warranty whatsoever\n",
      "Type: '?Oscar' for more information\n",
      "(c) 2019-2020 by The Oscar Development Team\n"
     ]
    },
    {
     "data": {
      "text/plain": [
       "bound_number_experiments (generic function with 2 methods)"
      ]
     },
     "execution_count": 1,
     "metadata": {},
     "output_type": "execute_result"
    }
   ],
   "source": [
    "using BenchmarkTools\n",
    "include(\"../experiments_bounds.jl\")"
   ]
  },
  {
   "cell_type": "code",
   "execution_count": 45,
   "metadata": {},
   "outputs": [
    {
     "data": {
      "text/plain": [
       "mammilary (generic function with 1 method)"
      ]
     },
     "execution_count": 45,
     "metadata": {},
     "output_type": "execute_result"
    }
   ],
   "source": [
    "function linear_compartment_model(graph, sinks, inputs)\n",
    "    \"\"\"\n",
    "    Input: \n",
    "        - graph of the model network represented via adjacency lists\n",
    "        - list of the indices of nodes having a sink\n",
    "    Output: the corresponding ODE object where each parameter a_ij is replaced\n",
    "            with a_ij + b_ij * u, where u is a constant input\n",
    "    \"\"\"\n",
    "    n = length(graph)\n",
    "    x_vars_names = [\"x$i\" for i in 1:n]\n",
    "    edges_vars_names = Array{String, 1}()\n",
    "    for i in 1:n\n",
    "        for j in graph[i]\n",
    "            push!(edges_vars_names, \"a_$(i)_$(j)\")\n",
    "            push!(edges_vars_names, \"b_$(i)_$(j)\")\n",
    "        end\n",
    "    end\n",
    "    for s in sinks\n",
    "        push!(edges_vars_names, \"a_$(s)_0\")\n",
    "        push!(edges_vars_names, \"b_$(s)_0\")\n",
    "    end\n",
    "    u_vars_names = [\"u$i\" for i in inputs]\n",
    "    R, vars = PolynomialRing(QQ, vcat(x_vars_names, edges_vars_names, u_vars_names, [\"v\"]))\n",
    "    x_vars = vars[1:n]\n",
    "    v = vars[end]\n",
    "    equations = Dict(x => R(0) for x in x_vars)\n",
    "    equations[v] = R(0)\n",
    "    for i in 1:n\n",
    "        for j in graph[i]\n",
    "            rate = str_to_var(\"a_$(i)_$(j)\", R) + str_to_var(\"b_$(i)_$(j)\", R) * v\n",
    "            if i != j\n",
    "                equations[x_vars[j]] += x_vars[i] * rate\n",
    "                equations[x_vars[i]] -= x_vars[i] * rate\n",
    "            else\n",
    "                equations[x_vars[i]] -= x_vars[i] * rate\n",
    "            end\n",
    "        end\n",
    "        if i in sinks\n",
    "            rate = str_to_var(\"a_$(i)_0\", R) + str_to_var(\"b_$(i)_0\", R) * v\n",
    "            equations[x_vars[i]] += -x_vars[i] * rate\n",
    "        end\n",
    "        if i in inputs\n",
    "            equations[x_vars[i]] += str_to_var(\"u$i\", R)\n",
    "        end\n",
    "    end\n",
    "    return ODE(equations, [str_to_var(\"u$i\", R) for i in inputs])\n",
    "end\n",
    "\n",
    "function bicycle(n)\n",
    "    \"\"\"\n",
    "    Generates a bidirected cycle of length n\n",
    "    \"\"\"\n",
    "    graph = []\n",
    "    for i in 1:n\n",
    "        prev = (i == 1) ? n : (i - 1)\n",
    "        next = (i == n) ? 1 : i + 1\n",
    "        push!(graph, [prev, next])\n",
    "    end\n",
    "    return graph\n",
    "end\n",
    "\n",
    "function cycle(n)\n",
    "    graph = [[(i == n) ? 1 : (i + 1)] for i in 1:n]\n",
    "    return graph\n",
    "end\n",
    "\n",
    "function catenary(n)\n",
    "    graph = [[] for i in 1:n]\n",
    "    for i in 1:n\n",
    "        if i != 1\n",
    "            push!(graph[i], i - 1)\n",
    "        end\n",
    "        if i != n\n",
    "            push!(graph[i], i + 1)\n",
    "        end\n",
    "    end\n",
    "    return graph\n",
    "end\n",
    "\n",
    "function mammilary(n)\n",
    "    graph = []\n",
    "    push!(graph, [i for i in 2:n])\n",
    "    for i in 2:n\n",
    "        push!(graph, [1])\n",
    "    end\n",
    "    return graph\n",
    "end"
   ]
  },
  {
   "cell_type": "code",
   "execution_count": 50,
   "metadata": {},
   "outputs": [
    {
     "name": "stdout",
     "output_type": "stream",
     "text": [
      "0.689069624 (loc = 4, glob = 5)\n",
      "2.506680914 (loc = 5, glob = 6)\n",
      "4.871412408 (loc = 5, glob = 6)\n",
      "8.656401807 (loc = 5, glob = 6)\n",
      "18.433233801 (loc = 5, glob = 6)\n",
      "29.375350953 (loc = 5, glob = 6)\n"
     ]
    }
   ],
   "source": [
    "runtimes = []\n",
    "for len in 3:8\n",
    "    ode = linear_compartment_model(mammilary(len), [1], [])\n",
    "    x1 = gens(ode.poly_ring)[1]\n",
    "    time = @elapsed bnd = bound_number_experiments(ode, [x1])\n",
    "    push!(runtimes, time)\n",
    "    print(\"$time $bnd\\n\")\n",
    "end"
   ]
  },
  {
   "cell_type": "code",
   "execution_count": 4,
   "metadata": {},
   "outputs": [
    {
     "name": "stdout",
     "output_type": "stream",
     "text": [
      " 17.869200 seconds (103.68 M allocations: 5.792 GiB, 4.44% gc time)\n"
     ]
    },
    {
     "data": {
      "text/plain": [
       "(loc = 5, glob = 6)"
      ]
     },
     "execution_count": 4,
     "metadata": {},
     "output_type": "execute_result"
    }
   ],
   "source": [
    "ode = graph_to_ode(cycle(5))\n",
    "x1 = gens(ode.poly_ring)[1]\n",
    "@time bound_number_experiments(ode, [x1])"
   ]
  },
  {
   "cell_type": "code",
   "execution_count": 32,
   "metadata": {},
   "outputs": [
    {
     "data": {
      "image/svg+xml": [
       "<?xml version=\"1.0\" encoding=\"utf-8\"?>\n",
       "<svg xmlns=\"http://www.w3.org/2000/svg\" xmlns:xlink=\"http://www.w3.org/1999/xlink\" width=\"600\" height=\"400\" viewBox=\"0 0 2400 1600\">\n",
       "<defs>\n",
       "  <clipPath id=\"clip600\">\n",
       "    <rect x=\"0\" y=\"0\" width=\"2400\" height=\"1600\"/>\n",
       "  </clipPath>\n",
       "</defs>\n",
       "<path clip-path=\"url(#clip600)\" d=\"\n",
       "M0 1600 L2400 1600 L2400 0 L0 0  Z\n",
       "  \" fill=\"#ffffff\" fill-rule=\"evenodd\" fill-opacity=\"1\"/>\n",
       "<defs>\n",
       "  <clipPath id=\"clip601\">\n",
       "    <rect x=\"480\" y=\"0\" width=\"1681\" height=\"1600\"/>\n",
       "  </clipPath>\n",
       "</defs>\n",
       "<path clip-path=\"url(#clip600)\" d=\"\n",
       "M162.455 1486.45 L2352.76 1486.45 L2352.76 47.2441 L162.455 47.2441  Z\n",
       "  \" fill=\"#ffffff\" fill-rule=\"evenodd\" fill-opacity=\"1\"/>\n",
       "<defs>\n",
       "  <clipPath id=\"clip602\">\n",
       "    <rect x=\"162\" y=\"47\" width=\"2191\" height=\"1440\"/>\n",
       "  </clipPath>\n",
       "</defs>\n",
       "<polyline clip-path=\"url(#clip602)\" style=\"stroke:#000000; stroke-width:2; stroke-opacity:0.1; fill:none\" points=\"\n",
       "  224.444,1486.45 224.444,47.2441 \n",
       "  \"/>\n",
       "<polyline clip-path=\"url(#clip602)\" style=\"stroke:#000000; stroke-width:2; stroke-opacity:0.1; fill:none\" points=\"\n",
       "  568.831,1486.45 568.831,47.2441 \n",
       "  \"/>\n",
       "<polyline clip-path=\"url(#clip602)\" style=\"stroke:#000000; stroke-width:2; stroke-opacity:0.1; fill:none\" points=\"\n",
       "  913.218,1486.45 913.218,47.2441 \n",
       "  \"/>\n",
       "<polyline clip-path=\"url(#clip602)\" style=\"stroke:#000000; stroke-width:2; stroke-opacity:0.1; fill:none\" points=\"\n",
       "  1257.61,1486.45 1257.61,47.2441 \n",
       "  \"/>\n",
       "<polyline clip-path=\"url(#clip602)\" style=\"stroke:#000000; stroke-width:2; stroke-opacity:0.1; fill:none\" points=\"\n",
       "  1601.99,1486.45 1601.99,47.2441 \n",
       "  \"/>\n",
       "<polyline clip-path=\"url(#clip602)\" style=\"stroke:#000000; stroke-width:2; stroke-opacity:0.1; fill:none\" points=\"\n",
       "  1946.38,1486.45 1946.38,47.2441 \n",
       "  \"/>\n",
       "<polyline clip-path=\"url(#clip602)\" style=\"stroke:#000000; stroke-width:2; stroke-opacity:0.1; fill:none\" points=\"\n",
       "  2290.77,1486.45 2290.77,47.2441 \n",
       "  \"/>\n",
       "<polyline clip-path=\"url(#clip602)\" style=\"stroke:#000000; stroke-width:2; stroke-opacity:0.1; fill:none\" points=\"\n",
       "  162.455,1469.11 2352.76,1469.11 \n",
       "  \"/>\n",
       "<polyline clip-path=\"url(#clip602)\" style=\"stroke:#000000; stroke-width:2; stroke-opacity:0.1; fill:none\" points=\"\n",
       "  162.455,1255.17 2352.76,1255.17 \n",
       "  \"/>\n",
       "<polyline clip-path=\"url(#clip602)\" style=\"stroke:#000000; stroke-width:2; stroke-opacity:0.1; fill:none\" points=\"\n",
       "  162.455,1041.23 2352.76,1041.23 \n",
       "  \"/>\n",
       "<polyline clip-path=\"url(#clip602)\" style=\"stroke:#000000; stroke-width:2; stroke-opacity:0.1; fill:none\" points=\"\n",
       "  162.455,827.296 2352.76,827.296 \n",
       "  \"/>\n",
       "<polyline clip-path=\"url(#clip602)\" style=\"stroke:#000000; stroke-width:2; stroke-opacity:0.1; fill:none\" points=\"\n",
       "  162.455,613.36 2352.76,613.36 \n",
       "  \"/>\n",
       "<polyline clip-path=\"url(#clip602)\" style=\"stroke:#000000; stroke-width:2; stroke-opacity:0.1; fill:none\" points=\"\n",
       "  162.455,399.423 2352.76,399.423 \n",
       "  \"/>\n",
       "<polyline clip-path=\"url(#clip602)\" style=\"stroke:#000000; stroke-width:2; stroke-opacity:0.1; fill:none\" points=\"\n",
       "  162.455,185.486 2352.76,185.486 \n",
       "  \"/>\n",
       "<polyline clip-path=\"url(#clip600)\" style=\"stroke:#000000; stroke-width:4; stroke-opacity:1; fill:none\" points=\"\n",
       "  162.455,1486.45 2352.76,1486.45 \n",
       "  \"/>\n",
       "<polyline clip-path=\"url(#clip600)\" style=\"stroke:#000000; stroke-width:4; stroke-opacity:1; fill:none\" points=\"\n",
       "  162.455,1486.45 162.455,47.2441 \n",
       "  \"/>\n",
       "<polyline clip-path=\"url(#clip600)\" style=\"stroke:#000000; stroke-width:4; stroke-opacity:1; fill:none\" points=\"\n",
       "  224.444,1486.45 224.444,1469.18 \n",
       "  \"/>\n",
       "<polyline clip-path=\"url(#clip600)\" style=\"stroke:#000000; stroke-width:4; stroke-opacity:1; fill:none\" points=\"\n",
       "  568.831,1486.45 568.831,1469.18 \n",
       "  \"/>\n",
       "<polyline clip-path=\"url(#clip600)\" style=\"stroke:#000000; stroke-width:4; stroke-opacity:1; fill:none\" points=\"\n",
       "  913.218,1486.45 913.218,1469.18 \n",
       "  \"/>\n",
       "<polyline clip-path=\"url(#clip600)\" style=\"stroke:#000000; stroke-width:4; stroke-opacity:1; fill:none\" points=\"\n",
       "  1257.61,1486.45 1257.61,1469.18 \n",
       "  \"/>\n",
       "<polyline clip-path=\"url(#clip600)\" style=\"stroke:#000000; stroke-width:4; stroke-opacity:1; fill:none\" points=\"\n",
       "  1601.99,1486.45 1601.99,1469.18 \n",
       "  \"/>\n",
       "<polyline clip-path=\"url(#clip600)\" style=\"stroke:#000000; stroke-width:4; stroke-opacity:1; fill:none\" points=\"\n",
       "  1946.38,1486.45 1946.38,1469.18 \n",
       "  \"/>\n",
       "<polyline clip-path=\"url(#clip600)\" style=\"stroke:#000000; stroke-width:4; stroke-opacity:1; fill:none\" points=\"\n",
       "  2290.77,1486.45 2290.77,1469.18 \n",
       "  \"/>\n",
       "<polyline clip-path=\"url(#clip600)\" style=\"stroke:#000000; stroke-width:4; stroke-opacity:1; fill:none\" points=\"\n",
       "  162.455,1469.11 188.738,1469.11 \n",
       "  \"/>\n",
       "<polyline clip-path=\"url(#clip600)\" style=\"stroke:#000000; stroke-width:4; stroke-opacity:1; fill:none\" points=\"\n",
       "  162.455,1255.17 188.738,1255.17 \n",
       "  \"/>\n",
       "<polyline clip-path=\"url(#clip600)\" style=\"stroke:#000000; stroke-width:4; stroke-opacity:1; fill:none\" points=\"\n",
       "  162.455,1041.23 188.738,1041.23 \n",
       "  \"/>\n",
       "<polyline clip-path=\"url(#clip600)\" style=\"stroke:#000000; stroke-width:4; stroke-opacity:1; fill:none\" points=\"\n",
       "  162.455,827.296 188.738,827.296 \n",
       "  \"/>\n",
       "<polyline clip-path=\"url(#clip600)\" style=\"stroke:#000000; stroke-width:4; stroke-opacity:1; fill:none\" points=\"\n",
       "  162.455,613.36 188.738,613.36 \n",
       "  \"/>\n",
       "<polyline clip-path=\"url(#clip600)\" style=\"stroke:#000000; stroke-width:4; stroke-opacity:1; fill:none\" points=\"\n",
       "  162.455,399.423 188.738,399.423 \n",
       "  \"/>\n",
       "<polyline clip-path=\"url(#clip600)\" style=\"stroke:#000000; stroke-width:4; stroke-opacity:1; fill:none\" points=\"\n",
       "  162.455,185.486 188.738,185.486 \n",
       "  \"/>\n",
       "<path clip-path=\"url(#clip600)\" d=\"M 0 0 M214.722 1505.36 L233.079 1505.36 L233.079 1509.3 L219.005 1509.3 L219.005 1517.77 Q220.023 1517.42 221.042 1517.26 Q222.06 1517.07 223.079 1517.07 Q228.866 1517.07 232.245 1520.24 Q235.625 1523.42 235.625 1528.83 Q235.625 1534.41 232.153 1537.51 Q228.68 1540.59 222.361 1540.59 Q220.185 1540.59 217.917 1540.22 Q215.671 1539.85 213.264 1539.11 L213.264 1534.41 Q215.347 1535.54 217.569 1536.1 Q219.792 1536.66 222.268 1536.66 Q226.273 1536.66 228.611 1534.55 Q230.949 1532.44 230.949 1528.83 Q230.949 1525.22 228.611 1523.11 Q226.273 1521.01 222.268 1521.01 Q220.393 1521.01 218.518 1521.42 Q216.667 1521.84 214.722 1522.72 L214.722 1505.36 Z\" fill=\"#000000\" fill-rule=\"evenodd\" fill-opacity=\"1\" /><path clip-path=\"url(#clip600)\" d=\"M 0 0 M569.236 1520.78 Q566.088 1520.78 564.236 1522.93 Q562.408 1525.08 562.408 1528.83 Q562.408 1532.56 564.236 1534.73 Q566.088 1536.89 569.236 1536.89 Q572.385 1536.89 574.213 1534.73 Q576.065 1532.56 576.065 1528.83 Q576.065 1525.08 574.213 1522.93 Q572.385 1520.78 569.236 1520.78 M578.519 1506.12 L578.519 1510.38 Q576.76 1509.55 574.954 1509.11 Q573.172 1508.67 571.412 1508.67 Q566.783 1508.67 564.329 1511.8 Q561.898 1514.92 561.551 1521.24 Q562.917 1519.23 564.977 1518.16 Q567.037 1517.07 569.514 1517.07 Q574.722 1517.07 577.732 1520.24 Q580.764 1523.39 580.764 1528.83 Q580.764 1534.16 577.616 1537.37 Q574.468 1540.59 569.236 1540.59 Q563.241 1540.59 560.07 1536.01 Q556.899 1531.4 556.899 1522.67 Q556.899 1514.48 560.787 1509.62 Q564.676 1504.73 571.227 1504.73 Q572.986 1504.73 574.769 1505.08 Q576.574 1505.43 578.519 1506.12 Z\" fill=\"#000000\" fill-rule=\"evenodd\" fill-opacity=\"1\" /><path clip-path=\"url(#clip600)\" d=\"M 0 0 M902.107 1505.36 L924.329 1505.36 L924.329 1507.35 L911.783 1539.92 L906.899 1539.92 L918.704 1509.3 L902.107 1509.3 L902.107 1505.36 Z\" fill=\"#000000\" fill-rule=\"evenodd\" fill-opacity=\"1\" /><path clip-path=\"url(#clip600)\" d=\"M 0 0 M1257.61 1523.51 Q1254.27 1523.51 1252.35 1525.29 Q1250.45 1527.07 1250.45 1530.2 Q1250.45 1533.32 1252.35 1535.11 Q1254.27 1536.89 1257.61 1536.89 Q1260.94 1536.89 1262.86 1535.11 Q1264.78 1533.3 1264.78 1530.2 Q1264.78 1527.07 1262.86 1525.29 Q1260.96 1523.51 1257.61 1523.51 M1252.93 1521.52 Q1249.92 1520.78 1248.23 1518.72 Q1246.56 1516.66 1246.56 1513.69 Q1246.56 1509.55 1249.5 1507.14 Q1252.47 1504.73 1257.61 1504.73 Q1262.77 1504.73 1265.71 1507.14 Q1268.65 1509.55 1268.65 1513.69 Q1268.65 1516.66 1266.96 1518.72 Q1265.29 1520.78 1262.3 1521.52 Q1265.68 1522.3 1267.56 1524.6 Q1269.46 1526.89 1269.46 1530.2 Q1269.46 1535.22 1266.38 1537.91 Q1263.32 1540.59 1257.61 1540.59 Q1251.89 1540.59 1248.81 1537.91 Q1245.75 1535.22 1245.75 1530.2 Q1245.75 1526.89 1247.65 1524.6 Q1249.55 1522.3 1252.93 1521.52 M1251.22 1514.13 Q1251.22 1516.82 1252.88 1518.32 Q1254.57 1519.83 1257.61 1519.83 Q1260.61 1519.83 1262.3 1518.32 Q1264.02 1516.82 1264.02 1514.13 Q1264.02 1511.45 1262.3 1509.94 Q1260.61 1508.44 1257.61 1508.44 Q1254.57 1508.44 1252.88 1509.94 Q1251.22 1511.45 1251.22 1514.13 Z\" fill=\"#000000\" fill-rule=\"evenodd\" fill-opacity=\"1\" /><path clip-path=\"url(#clip600)\" d=\"M 0 0 M1592.29 1539.2 L1592.29 1534.94 Q1594.05 1535.78 1595.86 1536.22 Q1597.66 1536.66 1599.4 1536.66 Q1604.03 1536.66 1606.46 1533.55 Q1608.91 1530.43 1609.26 1524.09 Q1607.92 1526.08 1605.86 1527.14 Q1603.8 1528.21 1601.3 1528.21 Q1596.11 1528.21 1593.08 1525.08 Q1590.07 1521.93 1590.07 1516.49 Q1590.07 1511.17 1593.22 1507.95 Q1596.37 1504.73 1601.6 1504.73 Q1607.59 1504.73 1610.74 1509.34 Q1613.91 1513.92 1613.91 1522.67 Q1613.91 1530.85 1610.02 1535.73 Q1606.16 1540.59 1599.61 1540.59 Q1597.85 1540.59 1596.04 1540.24 Q1594.24 1539.9 1592.29 1539.2 M1601.6 1524.55 Q1604.75 1524.55 1606.58 1522.4 Q1608.43 1520.24 1608.43 1516.49 Q1608.43 1512.77 1606.58 1510.61 Q1604.75 1508.44 1601.6 1508.44 Q1598.45 1508.44 1596.6 1510.61 Q1594.77 1512.77 1594.77 1516.49 Q1594.77 1520.24 1596.6 1522.4 Q1598.45 1524.55 1601.6 1524.55 Z\" fill=\"#000000\" fill-rule=\"evenodd\" fill-opacity=\"1\" /><path clip-path=\"url(#clip600)\" d=\"M 0 0 M1923.25 1535.98 L1930.89 1535.98 L1930.89 1509.62 L1922.58 1511.29 L1922.58 1507.03 L1930.85 1505.36 L1935.52 1505.36 L1935.52 1535.98 L1943.16 1535.98 L1943.16 1539.92 L1923.25 1539.92 L1923.25 1535.98 Z\" fill=\"#000000\" fill-rule=\"evenodd\" fill-opacity=\"1\" /><path clip-path=\"url(#clip600)\" d=\"M 0 0 M1958.23 1508.44 Q1954.62 1508.44 1952.79 1512 Q1950.99 1515.55 1950.99 1522.67 Q1950.99 1529.78 1952.79 1533.35 Q1954.62 1536.89 1958.23 1536.89 Q1961.87 1536.89 1963.67 1533.35 Q1965.5 1529.78 1965.5 1522.67 Q1965.5 1515.55 1963.67 1512 Q1961.87 1508.44 1958.23 1508.44 M1958.23 1504.73 Q1964.04 1504.73 1967.1 1509.34 Q1970.18 1513.92 1970.18 1522.67 Q1970.18 1531.4 1967.1 1536.01 Q1964.04 1540.59 1958.23 1540.59 Q1952.42 1540.59 1949.34 1536.01 Q1946.29 1531.4 1946.29 1522.67 Q1946.29 1513.92 1949.34 1509.34 Q1952.42 1504.73 1958.23 1504.73 Z\" fill=\"#000000\" fill-rule=\"evenodd\" fill-opacity=\"1\" /><path clip-path=\"url(#clip600)\" d=\"M 0 0 M2268.25 1535.98 L2275.89 1535.98 L2275.89 1509.62 L2267.58 1511.29 L2267.58 1507.03 L2275.85 1505.36 L2280.52 1505.36 L2280.52 1535.98 L2288.16 1535.98 L2288.16 1539.92 L2268.25 1539.92 L2268.25 1535.98 Z\" fill=\"#000000\" fill-rule=\"evenodd\" fill-opacity=\"1\" /><path clip-path=\"url(#clip600)\" d=\"M 0 0 M2294.04 1535.98 L2301.68 1535.98 L2301.68 1509.62 L2293.37 1511.29 L2293.37 1507.03 L2301.63 1505.36 L2306.31 1505.36 L2306.31 1535.98 L2313.95 1535.98 L2313.95 1539.92 L2294.04 1539.92 L2294.04 1535.98 Z\" fill=\"#000000\" fill-rule=\"evenodd\" fill-opacity=\"1\" /><path clip-path=\"url(#clip600)\" d=\"M 0 0 M62.9921 1471.5 L75.4689 1471.5 L75.4689 1475.3 L62.9921 1475.3 L62.9921 1471.5 Z\" fill=\"#000000\" fill-rule=\"evenodd\" fill-opacity=\"1\" /><path clip-path=\"url(#clip600)\" d=\"M 0 0 M90.5383 1454.9 Q86.9272 1454.9 85.0985 1458.47 Q83.2929 1462.01 83.2929 1469.14 Q83.2929 1476.25 85.0985 1479.81 Q86.9272 1483.35 90.5383 1483.35 Q94.1725 1483.35 95.9781 1479.81 Q97.8068 1476.25 97.8068 1469.14 Q97.8068 1462.01 95.9781 1458.47 Q94.1725 1454.9 90.5383 1454.9 M90.5383 1451.2 Q96.3484 1451.2 99.404 1455.81 Q102.483 1460.39 102.483 1469.14 Q102.483 1477.87 99.404 1482.47 Q96.3484 1487.06 90.5383 1487.06 Q84.7281 1487.06 81.6494 1482.47 Q78.5939 1477.87 78.5939 1469.14 Q78.5939 1460.39 81.6494 1455.81 Q84.7281 1451.2 90.5383 1451.2 Z\" fill=\"#000000\" fill-rule=\"evenodd\" fill-opacity=\"1\" /><path clip-path=\"url(#clip600)\" d=\"M 0 0 M107.552 1480.51 L112.436 1480.51 L112.436 1486.39 L107.552 1486.39 L107.552 1480.51 Z\" fill=\"#000000\" fill-rule=\"evenodd\" fill-opacity=\"1\" /><path clip-path=\"url(#clip600)\" d=\"M 0 0 M117.552 1451.83 L135.908 1451.83 L135.908 1455.76 L121.834 1455.76 L121.834 1464.23 Q122.853 1463.89 123.871 1463.72 Q124.89 1463.54 125.908 1463.54 Q131.695 1463.54 135.075 1466.71 Q138.455 1469.88 138.455 1475.3 Q138.455 1480.88 134.982 1483.98 Q131.51 1487.06 125.191 1487.06 Q123.015 1487.06 120.746 1486.69 Q118.501 1486.32 116.094 1485.58 L116.094 1480.88 Q118.177 1482.01 120.399 1482.57 Q122.621 1483.12 125.098 1483.12 Q129.103 1483.12 131.441 1481.02 Q133.779 1478.91 133.779 1475.3 Q133.779 1471.69 131.441 1469.58 Q129.103 1467.47 125.098 1467.47 Q123.223 1467.47 121.348 1467.89 Q119.496 1468.31 117.552 1469.19 L117.552 1451.83 Z\" fill=\"#000000\" fill-rule=\"evenodd\" fill-opacity=\"1\" /><path clip-path=\"url(#clip600)\" d=\"M 0 0 M89.5429 1240.97 Q85.9318 1240.97 84.1031 1244.53 Q82.2976 1248.07 82.2976 1255.2 Q82.2976 1262.31 84.1031 1265.88 Q85.9318 1269.42 89.5429 1269.42 Q93.1771 1269.42 94.9827 1265.88 Q96.8114 1262.31 96.8114 1255.2 Q96.8114 1248.07 94.9827 1244.53 Q93.1771 1240.97 89.5429 1240.97 M89.5429 1237.26 Q95.3531 1237.26 98.4086 1241.87 Q101.487 1246.45 101.487 1255.2 Q101.487 1263.93 98.4086 1268.54 Q95.3531 1273.12 89.5429 1273.12 Q83.7328 1273.12 80.6541 1268.54 Q77.5985 1263.93 77.5985 1255.2 Q77.5985 1246.45 80.6541 1241.87 Q83.7328 1237.26 89.5429 1237.26 Z\" fill=\"#000000\" fill-rule=\"evenodd\" fill-opacity=\"1\" /><path clip-path=\"url(#clip600)\" d=\"M 0 0 M106.557 1266.57 L111.441 1266.57 L111.441 1272.45 L106.557 1272.45 L106.557 1266.57 Z\" fill=\"#000000\" fill-rule=\"evenodd\" fill-opacity=\"1\" /><path clip-path=\"url(#clip600)\" d=\"M 0 0 M126.51 1240.97 Q122.899 1240.97 121.071 1244.53 Q119.265 1248.07 119.265 1255.2 Q119.265 1262.31 121.071 1265.88 Q122.899 1269.42 126.51 1269.42 Q130.145 1269.42 131.95 1265.88 Q133.779 1262.31 133.779 1255.2 Q133.779 1248.07 131.95 1244.53 Q130.145 1240.97 126.51 1240.97 M126.51 1237.26 Q132.32 1237.26 135.376 1241.87 Q138.455 1246.45 138.455 1255.2 Q138.455 1263.93 135.376 1268.54 Q132.32 1273.12 126.51 1273.12 Q120.7 1273.12 117.621 1268.54 Q114.566 1263.93 114.566 1255.2 Q114.566 1246.45 117.621 1241.87 Q120.7 1237.26 126.51 1237.26 Z\" fill=\"#000000\" fill-rule=\"evenodd\" fill-opacity=\"1\" /><path clip-path=\"url(#clip600)\" d=\"M 0 0 M90.5383 1027.03 Q86.9272 1027.03 85.0985 1030.6 Q83.2929 1034.14 83.2929 1041.27 Q83.2929 1048.37 85.0985 1051.94 Q86.9272 1055.48 90.5383 1055.48 Q94.1725 1055.48 95.9781 1051.94 Q97.8068 1048.37 97.8068 1041.27 Q97.8068 1034.14 95.9781 1030.6 Q94.1725 1027.03 90.5383 1027.03 M90.5383 1023.33 Q96.3484 1023.33 99.404 1027.93 Q102.483 1032.52 102.483 1041.27 Q102.483 1049.99 99.404 1054.6 Q96.3484 1059.18 90.5383 1059.18 Q84.7281 1059.18 81.6494 1054.6 Q78.5939 1049.99 78.5939 1041.27 Q78.5939 1032.52 81.6494 1027.93 Q84.7281 1023.33 90.5383 1023.33 Z\" fill=\"#000000\" fill-rule=\"evenodd\" fill-opacity=\"1\" /><path clip-path=\"url(#clip600)\" d=\"M 0 0 M107.552 1052.63 L112.436 1052.63 L112.436 1058.51 L107.552 1058.51 L107.552 1052.63 Z\" fill=\"#000000\" fill-rule=\"evenodd\" fill-opacity=\"1\" /><path clip-path=\"url(#clip600)\" d=\"M 0 0 M117.552 1023.95 L135.908 1023.95 L135.908 1027.89 L121.834 1027.89 L121.834 1036.36 Q122.853 1036.01 123.871 1035.85 Q124.89 1035.67 125.908 1035.67 Q131.695 1035.67 135.075 1038.84 Q138.455 1042.01 138.455 1047.42 Q138.455 1053 134.982 1056.11 Q131.51 1059.18 125.191 1059.18 Q123.015 1059.18 120.746 1058.81 Q118.501 1058.44 116.094 1057.7 L116.094 1053 Q118.177 1054.14 120.399 1054.69 Q122.621 1055.25 125.098 1055.25 Q129.103 1055.25 131.441 1053.14 Q133.779 1051.04 133.779 1047.42 Q133.779 1043.81 131.441 1041.71 Q129.103 1039.6 125.098 1039.6 Q123.223 1039.6 121.348 1040.02 Q119.496 1040.43 117.552 1041.31 L117.552 1023.95 Z\" fill=\"#000000\" fill-rule=\"evenodd\" fill-opacity=\"1\" /><path clip-path=\"url(#clip600)\" d=\"M 0 0 M81.58 840.641 L89.2188 840.641 L89.2188 814.275 L80.9087 815.942 L80.9087 811.683 L89.1725 810.016 L93.8484 810.016 L93.8484 840.641 L101.487 840.641 L101.487 844.576 L81.58 844.576 L81.58 840.641 Z\" fill=\"#000000\" fill-rule=\"evenodd\" fill-opacity=\"1\" /><path clip-path=\"url(#clip600)\" d=\"M 0 0 M106.557 838.697 L111.441 838.697 L111.441 844.576 L106.557 844.576 L106.557 838.697 Z\" fill=\"#000000\" fill-rule=\"evenodd\" fill-opacity=\"1\" /><path clip-path=\"url(#clip600)\" d=\"M 0 0 M126.51 813.095 Q122.899 813.095 121.071 816.66 Q119.265 820.201 119.265 827.331 Q119.265 834.437 121.071 838.002 Q122.899 841.544 126.51 841.544 Q130.145 841.544 131.95 838.002 Q133.779 834.437 133.779 827.331 Q133.779 820.201 131.95 816.66 Q130.145 813.095 126.51 813.095 M126.51 809.391 Q132.32 809.391 135.376 813.998 Q138.455 818.581 138.455 827.331 Q138.455 836.058 135.376 840.664 Q132.32 845.248 126.51 845.248 Q120.7 845.248 117.621 840.664 Q114.566 836.058 114.566 827.331 Q114.566 818.581 117.621 813.998 Q120.7 809.391 126.51 809.391 Z\" fill=\"#000000\" fill-rule=\"evenodd\" fill-opacity=\"1\" /><path clip-path=\"url(#clip600)\" d=\"M 0 0 M82.5754 626.704 L90.2142 626.704 L90.2142 600.339 L81.9041 602.005 L81.9041 597.746 L90.1679 596.08 L94.8438 596.08 L94.8438 626.704 L102.483 626.704 L102.483 630.64 L82.5754 630.64 L82.5754 626.704 Z\" fill=\"#000000\" fill-rule=\"evenodd\" fill-opacity=\"1\" /><path clip-path=\"url(#clip600)\" d=\"M 0 0 M107.552 624.76 L112.436 624.76 L112.436 630.64 L107.552 630.64 L107.552 624.76 Z\" fill=\"#000000\" fill-rule=\"evenodd\" fill-opacity=\"1\" /><path clip-path=\"url(#clip600)\" d=\"M 0 0 M117.552 596.08 L135.908 596.08 L135.908 600.015 L121.834 600.015 L121.834 608.487 Q122.853 608.14 123.871 607.978 Q124.89 607.792 125.908 607.792 Q131.695 607.792 135.075 610.964 Q138.455 614.135 138.455 619.552 Q138.455 625.13 134.982 628.232 Q131.51 631.311 125.191 631.311 Q123.015 631.311 120.746 630.94 Q118.501 630.57 116.094 629.829 L116.094 625.13 Q118.177 626.265 120.399 626.82 Q122.621 627.376 125.098 627.376 Q129.103 627.376 131.441 625.269 Q133.779 623.163 133.779 619.552 Q133.779 615.941 131.441 613.834 Q129.103 611.728 125.098 611.728 Q123.223 611.728 121.348 612.144 Q119.496 612.561 117.552 613.441 L117.552 596.08 Z\" fill=\"#000000\" fill-rule=\"evenodd\" fill-opacity=\"1\" /><path clip-path=\"url(#clip600)\" d=\"M 0 0 M85.1679 412.768 L101.487 412.768 L101.487 416.703 L79.543 416.703 L79.543 412.768 Q82.205 410.013 86.7883 405.383 Q91.3948 400.731 92.5753 399.388 Q94.8207 396.865 95.7003 395.129 Q96.6031 393.37 96.6031 391.68 Q96.6031 388.925 94.6586 387.189 Q92.7373 385.453 89.6355 385.453 Q87.4364 385.453 84.9827 386.217 Q82.5522 386.981 79.7744 388.532 L79.7744 383.809 Q82.5985 382.675 85.0522 382.097 Q87.5059 381.518 89.5429 381.518 Q94.9133 381.518 98.1077 384.203 Q101.302 386.888 101.302 391.379 Q101.302 393.509 100.492 395.43 Q99.7049 397.328 97.5984 399.921 Q97.0197 400.592 93.9179 403.809 Q90.8161 407.004 85.1679 412.768 Z\" fill=\"#000000\" fill-rule=\"evenodd\" fill-opacity=\"1\" /><path clip-path=\"url(#clip600)\" d=\"M 0 0 M106.557 410.823 L111.441 410.823 L111.441 416.703 L106.557 416.703 L106.557 410.823 Z\" fill=\"#000000\" fill-rule=\"evenodd\" fill-opacity=\"1\" /><path clip-path=\"url(#clip600)\" d=\"M 0 0 M126.51 385.222 Q122.899 385.222 121.071 388.786 Q119.265 392.328 119.265 399.458 Q119.265 406.564 121.071 410.129 Q122.899 413.67 126.51 413.67 Q130.145 413.67 131.95 410.129 Q133.779 406.564 133.779 399.458 Q133.779 392.328 131.95 388.786 Q130.145 385.222 126.51 385.222 M126.51 381.518 Q132.32 381.518 135.376 386.124 Q138.455 390.708 138.455 399.458 Q138.455 408.184 135.376 412.791 Q132.32 417.374 126.51 417.374 Q120.7 417.374 117.621 412.791 Q114.566 408.184 114.566 399.458 Q114.566 390.708 117.621 386.124 Q120.7 381.518 126.51 381.518 Z\" fill=\"#000000\" fill-rule=\"evenodd\" fill-opacity=\"1\" /><path clip-path=\"url(#clip600)\" d=\"M 0 0 M86.1633 198.831 L102.483 198.831 L102.483 202.766 L80.5383 202.766 L80.5383 198.831 Q83.2004 196.076 87.7837 191.447 Q92.3901 186.794 93.5707 185.451 Q95.816 182.928 96.6956 181.192 Q97.5984 179.433 97.5984 177.743 Q97.5984 174.989 95.654 173.252 Q93.7327 171.516 90.6309 171.516 Q88.4318 171.516 85.9781 172.28 Q83.5476 173.044 80.7698 174.595 L80.7698 169.873 Q83.5939 168.739 86.0476 168.16 Q88.5012 167.581 90.5383 167.581 Q95.9086 167.581 99.103 170.266 Q102.297 172.951 102.297 177.442 Q102.297 179.572 101.487 181.493 Q100.7 183.391 98.5938 185.984 Q98.0151 186.655 94.9133 189.873 Q91.8114 193.067 86.1633 198.831 Z\" fill=\"#000000\" fill-rule=\"evenodd\" fill-opacity=\"1\" /><path clip-path=\"url(#clip600)\" d=\"M 0 0 M107.552 196.887 L112.436 196.887 L112.436 202.766 L107.552 202.766 L107.552 196.887 Z\" fill=\"#000000\" fill-rule=\"evenodd\" fill-opacity=\"1\" /><path clip-path=\"url(#clip600)\" d=\"M 0 0 M117.552 168.206 L135.908 168.206 L135.908 172.141 L121.834 172.141 L121.834 180.613 Q122.853 180.266 123.871 180.104 Q124.89 179.919 125.908 179.919 Q131.695 179.919 135.075 183.09 Q138.455 186.262 138.455 191.678 Q138.455 197.257 134.982 200.359 Q131.51 203.437 125.191 203.437 Q123.015 203.437 120.746 203.067 Q118.501 202.697 116.094 201.956 L116.094 197.257 Q118.177 198.391 120.399 198.947 Q122.621 199.502 125.098 199.502 Q129.103 199.502 131.441 197.396 Q133.779 195.289 133.779 191.678 Q133.779 188.067 131.441 185.961 Q129.103 183.854 125.098 183.854 Q123.223 183.854 121.348 184.271 Q119.496 184.688 117.552 185.567 L117.552 168.206 Z\" fill=\"#000000\" fill-rule=\"evenodd\" fill-opacity=\"1\" /><polyline clip-path=\"url(#clip602)\" style=\"stroke:#009af9; stroke-width:4; stroke-opacity:1; fill:none\" points=\"\n",
       "  224.444,1445.72 568.831,1065.19 913.218,821.297 1257.61,677.994 1601.99,462.625 1946.38,304.084 2290.77,87.9763 \n",
       "  \"/>\n",
       "<path clip-path=\"url(#clip600)\" d=\"\n",
       "M1985.36 216.178 L2279.75 216.178 L2279.75 95.2176 L1985.36 95.2176  Z\n",
       "  \" fill=\"#ffffff\" fill-rule=\"evenodd\" fill-opacity=\"1\"/>\n",
       "<polyline clip-path=\"url(#clip600)\" style=\"stroke:#000000; stroke-width:4; stroke-opacity:1; fill:none\" points=\"\n",
       "  1985.36,216.178 2279.75,216.178 2279.75,95.2176 1985.36,95.2176 1985.36,216.178 \n",
       "  \"/>\n",
       "<polyline clip-path=\"url(#clip600)\" style=\"stroke:#009af9; stroke-width:4; stroke-opacity:1; fill:none\" points=\"\n",
       "  2009.7,155.698 2155.72,155.698 \n",
       "  \"/>\n",
       "<path clip-path=\"url(#clip600)\" d=\"M 0 0 M2193.9 175.385 Q2192.09 180.015 2190.38 181.427 Q2188.67 182.839 2185.79 182.839 L2182.39 182.839 L2182.39 179.274 L2184.89 179.274 Q2186.65 179.274 2187.62 178.44 Q2188.6 177.607 2189.78 174.505 L2190.54 172.561 L2180.05 147.052 L2184.57 147.052 L2192.67 167.329 L2200.77 147.052 L2205.29 147.052 L2193.9 175.385 Z\" fill=\"#000000\" fill-rule=\"evenodd\" fill-opacity=\"1\" /><path clip-path=\"url(#clip600)\" d=\"M 0 0 M2211.17 169.042 L2218.8 169.042 L2218.8 142.677 L2210.49 144.343 L2210.49 140.084 L2218.76 138.418 L2223.43 138.418 L2223.43 169.042 L2231.07 169.042 L2231.07 172.978 L2211.17 172.978 L2211.17 169.042 Z\" fill=\"#000000\" fill-rule=\"evenodd\" fill-opacity=\"1\" /></svg>\n"
      ]
     },
     "execution_count": 32,
     "metadata": {},
     "output_type": "execute_result"
    }
   ],
   "source": [
    "using Plots\n",
    "plot(5:11, map(log, runtimes[3:end]))"
   ]
  },
  {
   "cell_type": "code",
   "execution_count": 36,
   "metadata": {},
   "outputs": [
    {
     "data": {
      "text/html": [
       "false"
      ],
      "text/plain": [
       "false"
      ]
     },
     "execution_count": 36,
     "metadata": {},
     "output_type": "execute_result"
    }
   ],
   "source": [
    "2 in 3:7"
   ]
  },
  {
   "cell_type": "code",
   "execution_count": null,
   "metadata": {},
   "outputs": [],
   "source": []
  }
 ],
 "metadata": {
  "kernelspec": {
   "display_name": "Julia 1.4.2",
   "language": "julia",
   "name": "julia-1.4"
  },
  "language_info": {
   "file_extension": ".jl",
   "mimetype": "application/julia",
   "name": "julia",
   "version": "1.4.2"
  }
 },
 "nbformat": 4,
 "nbformat_minor": 4
}
