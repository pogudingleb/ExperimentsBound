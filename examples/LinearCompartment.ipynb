{
 "cells": [
  {
   "cell_type": "markdown",
   "metadata": {},
   "source": [
    "## Linear compartment models with constant input\n",
    "\n",
    "We consider three series of linear compartment models: cyclic, catenary, and mamillary. For each of the models, we replace each reaction rate $a_{ij}$ with $b_{ij} + c_{ij}x_0$, where $b_{ij}$ and $c_{ij}$ are scalar parameters, and $x_0$ is a constant input. We report the results and runtimes."
   ]
  },
  {
   "cell_type": "code",
   "execution_count": 1,
   "metadata": {},
   "outputs": [
    {
     "data": {
      "text/html": [
       "$\\require{action}$"
      ]
     },
     "metadata": {},
     "output_type": "display_data"
    },
    {
     "name": "stdout",
     "output_type": "stream",
     "text": [
      " -----    -----    -----      -      -----   \n",
      "|     |  |     |  |     |    | |    |     |  \n",
      "|     |  |        |         |   |   |     |  \n",
      "|     |   -----   |        |     |  |-----   \n",
      "|     |        |  |        |-----|  |   |    \n",
      "|     |  |     |  |     |  |     |  |    |   \n",
      " -----    -----    -----   -     -  -     -  \n",
      "\n",
      "...combining (and extending) ANTIC, GAP, Polymake and Singular\n",
      "Version\u001b[32m 0.5.0 \u001b[39m... \n",
      " ... which comes with absolutely no warranty whatsoever\n",
      "Type: '?Oscar' for more information\n",
      "(c) 2019-2020 by The Oscar Development Team\n"
     ]
    }
   ],
   "source": [
    "using BenchmarkTools\n",
    "using DataFrames\n",
    "include(\"../experiments_bounds.jl\")\n",
    "include(\"linear_compartment.jl\");"
   ]
  },
  {
   "cell_type": "code",
   "execution_count": 2,
   "metadata": {},
   "outputs": [],
   "source": [
    "function run_model(func, min_n, max_n)\n",
    "    \"\"\"\n",
    "    func is a function for generating a model:\n",
    "    cycle, catenary, mammilary\n",
    "    min_n and max_n define the range of sizes to test\n",
    "    \"\"\"\n",
    "    results = []\n",
    "    runtimes = []\n",
    "    for n in min_n:max_n\n",
    "        ode = linear_compartment_model(func(n), [1])\n",
    "        x0, x1 = gens(ode.poly_ring)[1:2]\n",
    "        time = @belapsed bound_number_experiments($ode, [$x0, $x1])\n",
    "        bnd = bound_number_experiments(ode, [x0, x1])\n",
    "        push!(results, bnd)\n",
    "        push!(runtimes, time)\n",
    "    end\n",
    "    return df = DataFrame(n = min_n:max_n, results = results, runtimes = runtimes)\n",
    "end;"
   ]
  },
  {
   "cell_type": "code",
   "execution_count": 3,
   "metadata": {},
   "outputs": [
    {
     "data": {
      "text/html": [
       "<table class=\"data-frame\"><thead><tr><th></th><th>n</th><th>results</th><th>runtimes</th></tr><tr><th></th><th>Int64</th><th>Any</th><th>Any</th></tr></thead><tbody><p>13 rows × 3 columns</p><tr><th>1</th><td>3</td><td>(loc = 3, glob = 4)</td><td>0.242069</td></tr><tr><th>2</th><td>4</td><td>(loc = 3, glob = 4)</td><td>0.448394</td></tr><tr><th>3</th><td>5</td><td>(loc = 3, glob = 4)</td><td>0.874236</td></tr><tr><th>4</th><td>6</td><td>(loc = 3, glob = 4)</td><td>1.56018</td></tr><tr><th>5</th><td>7</td><td>(loc = 3, glob = 4)</td><td>2.74262</td></tr><tr><th>6</th><td>8</td><td>(loc = 3, glob = 4)</td><td>3.79573</td></tr><tr><th>7</th><td>9</td><td>(loc = 3, glob = 4)</td><td>5.28667</td></tr><tr><th>8</th><td>10</td><td>(loc = 3, glob = 4)</td><td>9.5214</td></tr><tr><th>9</th><td>11</td><td>(loc = 3, glob = 4)</td><td>14.6354</td></tr><tr><th>10</th><td>12</td><td>(loc = 3, glob = 4)</td><td>18.565</td></tr><tr><th>11</th><td>13</td><td>(loc = 3, glob = 4)</td><td>26.2968</td></tr><tr><th>12</th><td>14</td><td>(loc = 3, glob = 4)</td><td>34.0596</td></tr><tr><th>13</th><td>15</td><td>(loc = 3, glob = 4)</td><td>40.9922</td></tr></tbody></table>"
      ],
      "text/latex": [
       "\\begin{tabular}{r|ccc}\n",
       "\t& n & results & runtimes\\\\\n",
       "\t\\hline\n",
       "\t& Int64 & Any & Any\\\\\n",
       "\t\\hline\n",
       "\t1 & 3 & (loc = 3, glob = 4) & 0 . 2 4 2 0 6 8 9 2 6 \\\\\n",
       "\t2 & 4 & (loc = 3, glob = 4) & 0 . 4 4 8 3 9 4 1 2 2 \\\\\n",
       "\t3 & 5 & (loc = 3, glob = 4) & 0 . 8 7 4 2 3 6 3 0 2 \\\\\n",
       "\t4 & 6 & (loc = 3, glob = 4) & 1 . 5 6 0 1 7 5 9 6 1 \\\\\n",
       "\t5 & 7 & (loc = 3, glob = 4) & 2 . 7 4 2 6 1 6 4 1 2 \\\\\n",
       "\t6 & 8 & (loc = 3, glob = 4) & 3 . 7 9 5 7 3 3 9 9 6 \\\\\n",
       "\t7 & 9 & (loc = 3, glob = 4) & 5 . 2 8 6 6 7 4 9 8 8 \\\\\n",
       "\t8 & 10 & (loc = 3, glob = 4) & 9 . 5 2 1 4 0 4 1 6 5 \\\\\n",
       "\t9 & 11 & (loc = 3, glob = 4) & 1 4 . 6 3 5 3 6 2 3 7 8 \\\\\n",
       "\t10 & 12 & (loc = 3, glob = 4) & 1 8 . 5 6 4 9 8 1 2 5 7 \\\\\n",
       "\t11 & 13 & (loc = 3, glob = 4) & 2 6 . 2 9 6 8 0 3 0 0 3 \\\\\n",
       "\t12 & 14 & (loc = 3, glob = 4) & 3 4 . 0 5 9 5 9 5 0 2 9 \\\\\n",
       "\t13 & 15 & (loc = 3, glob = 4) & 4 0 . 9 9 2 1 9 6 2 2 3 \\\\\n",
       "\\end{tabular}\n"
      ],
      "text/plain": [
       "13×3 DataFrame\n",
       "│ Row │ n     │ results             │ runtimes │\n",
       "│     │ \u001b[90mInt64\u001b[39m │ \u001b[90mAny\u001b[39m                 │ \u001b[90mAny\u001b[39m      │\n",
       "├─────┼───────┼─────────────────────┼──────────┤\n",
       "│ 1   │ 3     │ (loc = 3, glob = 4) │ 0.242069 │\n",
       "│ 2   │ 4     │ (loc = 3, glob = 4) │ 0.448394 │\n",
       "│ 3   │ 5     │ (loc = 3, glob = 4) │ 0.874236 │\n",
       "│ 4   │ 6     │ (loc = 3, glob = 4) │ 1.56018  │\n",
       "│ 5   │ 7     │ (loc = 3, glob = 4) │ 2.74262  │\n",
       "│ 6   │ 8     │ (loc = 3, glob = 4) │ 3.79573  │\n",
       "│ 7   │ 9     │ (loc = 3, glob = 4) │ 5.28667  │\n",
       "│ 8   │ 10    │ (loc = 3, glob = 4) │ 9.5214   │\n",
       "│ 9   │ 11    │ (loc = 3, glob = 4) │ 14.6354  │\n",
       "│ 10  │ 12    │ (loc = 3, glob = 4) │ 18.565   │\n",
       "│ 11  │ 13    │ (loc = 3, glob = 4) │ 26.2968  │\n",
       "│ 12  │ 14    │ (loc = 3, glob = 4) │ 34.0596  │\n",
       "│ 13  │ 15    │ (loc = 3, glob = 4) │ 40.9922  │"
      ]
     },
     "execution_count": 3,
     "metadata": {},
     "output_type": "execute_result"
    }
   ],
   "source": [
    "run_model(cycle, 3, 15)"
   ]
  },
  {
   "cell_type": "code",
   "execution_count": 4,
   "metadata": {},
   "outputs": [
    {
     "data": {
      "text/html": [
       "<table class=\"data-frame\"><thead><tr><th></th><th>n</th><th>results</th><th>runtimes</th></tr><tr><th></th><th>Int64</th><th>Any</th><th>Any</th></tr></thead><tbody><p>13 rows × 3 columns</p><tr><th>1</th><td>3</td><td>(loc = 4, glob = 5)</td><td>0.555119</td></tr><tr><th>2</th><td>4</td><td>(loc = 5, glob = 6)</td><td>2.2627</td></tr><tr><th>3</th><td>5</td><td>(loc = 5, glob = 6)</td><td>4.23132</td></tr><tr><th>4</th><td>6</td><td>(loc = 5, glob = 6)</td><td>7.70582</td></tr><tr><th>5</th><td>7</td><td>(loc = 5, glob = 6)</td><td>13.9583</td></tr><tr><th>6</th><td>8</td><td>(loc = 5, glob = 6)</td><td>21.9455</td></tr><tr><th>7</th><td>9</td><td>(loc = 5, glob = 6)</td><td>31.203</td></tr><tr><th>8</th><td>10</td><td>(loc = 5, glob = 6)</td><td>45.5949</td></tr><tr><th>9</th><td>11</td><td>(loc = 5, glob = 6)</td><td>67.5971</td></tr><tr><th>10</th><td>12</td><td>(loc = 5, glob = 6)</td><td>84.729</td></tr><tr><th>11</th><td>13</td><td>(loc = 5, glob = 6)</td><td>135.275</td></tr><tr><th>12</th><td>14</td><td>(loc = 5, glob = 6)</td><td>200.005</td></tr><tr><th>13</th><td>15</td><td>(loc = 5, glob = 6)</td><td>330.222</td></tr></tbody></table>"
      ],
      "text/latex": [
       "\\begin{tabular}{r|ccc}\n",
       "\t& n & results & runtimes\\\\\n",
       "\t\\hline\n",
       "\t& Int64 & Any & Any\\\\\n",
       "\t\\hline\n",
       "\t1 & 3 & (loc = 4, glob = 5) & 0 . 5 5 5 1 1 9 2 8 8 \\\\\n",
       "\t2 & 4 & (loc = 5, glob = 6) & 2 . 2 6 2 7 0 1 8 3 9 \\\\\n",
       "\t3 & 5 & (loc = 5, glob = 6) & 4 . 2 3 1 3 1 7 6 9 9 \\\\\n",
       "\t4 & 6 & (loc = 5, glob = 6) & 7 . 7 0 5 8 1 5 7 8 9 \\\\\n",
       "\t5 & 7 & (loc = 5, glob = 6) & 1 3 . 9 5 8 2 9 7 5 3 \\\\\n",
       "\t6 & 8 & (loc = 5, glob = 6) & 2 1 . 9 4 5 5 3 0 0 4 3 \\\\\n",
       "\t7 & 9 & (loc = 5, glob = 6) & 3 1 . 2 0 2 9 7 7 4 2 2 \\\\\n",
       "\t8 & 10 & (loc = 5, glob = 6) & 4 5 . 5 9 4 8 5 4 5 5 4 \\\\\n",
       "\t9 & 11 & (loc = 5, glob = 6) & 6 7 . 5 9 7 0 6 3 2 3 2 \\\\\n",
       "\t10 & 12 & (loc = 5, glob = 6) & 8 4 . 7 2 9 0 3 3 7 5 4 \\\\\n",
       "\t11 & 13 & (loc = 5, glob = 6) & 1 3 5 . 2 7 4 8 8 6 4 7 7 \\\\\n",
       "\t12 & 14 & (loc = 5, glob = 6) & 2 0 0 . 0 0 5 0 3 1 3 5 4 \\\\\n",
       "\t13 & 15 & (loc = 5, glob = 6) & 3 3 0 . 2 2 1 6 3 6 1 5 2 \\\\\n",
       "\\end{tabular}\n"
      ],
      "text/plain": [
       "13×3 DataFrame\n",
       "│ Row │ n     │ results             │ runtimes │\n",
       "│     │ \u001b[90mInt64\u001b[39m │ \u001b[90mAny\u001b[39m                 │ \u001b[90mAny\u001b[39m      │\n",
       "├─────┼───────┼─────────────────────┼──────────┤\n",
       "│ 1   │ 3     │ (loc = 4, glob = 5) │ 0.555119 │\n",
       "│ 2   │ 4     │ (loc = 5, glob = 6) │ 2.2627   │\n",
       "│ 3   │ 5     │ (loc = 5, glob = 6) │ 4.23132  │\n",
       "│ 4   │ 6     │ (loc = 5, glob = 6) │ 7.70582  │\n",
       "│ 5   │ 7     │ (loc = 5, glob = 6) │ 13.9583  │\n",
       "│ 6   │ 8     │ (loc = 5, glob = 6) │ 21.9455  │\n",
       "│ 7   │ 9     │ (loc = 5, glob = 6) │ 31.203   │\n",
       "│ 8   │ 10    │ (loc = 5, glob = 6) │ 45.5949  │\n",
       "│ 9   │ 11    │ (loc = 5, glob = 6) │ 67.5971  │\n",
       "│ 10  │ 12    │ (loc = 5, glob = 6) │ 84.729   │\n",
       "│ 11  │ 13    │ (loc = 5, glob = 6) │ 135.275  │\n",
       "│ 12  │ 14    │ (loc = 5, glob = 6) │ 200.005  │\n",
       "│ 13  │ 15    │ (loc = 5, glob = 6) │ 330.222  │"
      ]
     },
     "execution_count": 4,
     "metadata": {},
     "output_type": "execute_result"
    }
   ],
   "source": [
    "run_model(catenary, 3, 15)"
   ]
  },
  {
   "cell_type": "code",
   "execution_count": 5,
   "metadata": {},
   "outputs": [
    {
     "data": {
      "text/html": [
       "<table class=\"data-frame\"><thead><tr><th></th><th>n</th><th>results</th><th>runtimes</th></tr><tr><th></th><th>Int64</th><th>Any</th><th>Any</th></tr></thead><tbody><p>13 rows × 3 columns</p><tr><th>1</th><td>3</td><td>(loc = 4, glob = 5)</td><td>0.579708</td></tr><tr><th>2</th><td>4</td><td>(loc = 5, glob = 6)</td><td>2.29534</td></tr><tr><th>3</th><td>5</td><td>(loc = 5, glob = 6)</td><td>4.50954</td></tr><tr><th>4</th><td>6</td><td>(loc = 5, glob = 6)</td><td>7.84394</td></tr><tr><th>5</th><td>7</td><td>(loc = 5, glob = 6)</td><td>14.5131</td></tr><tr><th>6</th><td>8</td><td>(loc = 5, glob = 6)</td><td>22.4893</td></tr><tr><th>7</th><td>9</td><td>(loc = 5, glob = 6)</td><td>33.6869</td></tr><tr><th>8</th><td>10</td><td>(loc = 5, glob = 6)</td><td>45.802</td></tr><tr><th>9</th><td>11</td><td>(loc = 5, glob = 6)</td><td>67.1155</td></tr><tr><th>10</th><td>12</td><td>(loc = 5, glob = 6)</td><td>85.8172</td></tr><tr><th>11</th><td>13</td><td>(loc = 5, glob = 6)</td><td>134.583</td></tr><tr><th>12</th><td>14</td><td>(loc = 5, glob = 6)</td><td>198.021</td></tr><tr><th>13</th><td>15</td><td>(loc = 5, glob = 6)</td><td>320.274</td></tr></tbody></table>"
      ],
      "text/latex": [
       "\\begin{tabular}{r|ccc}\n",
       "\t& n & results & runtimes\\\\\n",
       "\t\\hline\n",
       "\t& Int64 & Any & Any\\\\\n",
       "\t\\hline\n",
       "\t1 & 3 & (loc = 4, glob = 5) & 0 . 5 7 9 7 0 8 3 8 6 \\\\\n",
       "\t2 & 4 & (loc = 5, glob = 6) & 2 . 2 9 5 3 3 5 6 9 6 \\\\\n",
       "\t3 & 5 & (loc = 5, glob = 6) & 4 . 5 0 9 5 4 1 7 9 1 \\\\\n",
       "\t4 & 6 & (loc = 5, glob = 6) & 7 . 8 4 3 9 4 0 7 1 \\\\\n",
       "\t5 & 7 & (loc = 5, glob = 6) & 1 4 . 5 1 3 1 4 7 0 1 9 \\\\\n",
       "\t6 & 8 & (loc = 5, glob = 6) & 2 2 . 4 8 9 2 9 6 8 5 8 \\\\\n",
       "\t7 & 9 & (loc = 5, glob = 6) & 3 3 . 6 8 6 9 1 1 3 6 2 \\\\\n",
       "\t8 & 10 & (loc = 5, glob = 6) & 4 5 . 8 0 2 0 0 8 7 2 4 \\\\\n",
       "\t9 & 11 & (loc = 5, glob = 6) & 6 7 . 1 1 5 5 0 6 3 1 8 \\\\\n",
       "\t10 & 12 & (loc = 5, glob = 6) & 8 5 . 8 1 7 1 7 5 9 0 2 \\\\\n",
       "\t11 & 13 & (loc = 5, glob = 6) & 1 3 4 . 5 8 3 2 1 8 8 0 9 \\\\\n",
       "\t12 & 14 & (loc = 5, glob = 6) & 1 9 8 . 0 2 0 5 6 8 9 4 2 \\\\\n",
       "\t13 & 15 & (loc = 5, glob = 6) & 3 2 0 . 2 7 4 2 3 4 6 9 9 \\\\\n",
       "\\end{tabular}\n"
      ],
      "text/plain": [
       "13×3 DataFrame\n",
       "│ Row │ n     │ results             │ runtimes │\n",
       "│     │ \u001b[90mInt64\u001b[39m │ \u001b[90mAny\u001b[39m                 │ \u001b[90mAny\u001b[39m      │\n",
       "├─────┼───────┼─────────────────────┼──────────┤\n",
       "│ 1   │ 3     │ (loc = 4, glob = 5) │ 0.579708 │\n",
       "│ 2   │ 4     │ (loc = 5, glob = 6) │ 2.29534  │\n",
       "│ 3   │ 5     │ (loc = 5, glob = 6) │ 4.50954  │\n",
       "│ 4   │ 6     │ (loc = 5, glob = 6) │ 7.84394  │\n",
       "│ 5   │ 7     │ (loc = 5, glob = 6) │ 14.5131  │\n",
       "│ 6   │ 8     │ (loc = 5, glob = 6) │ 22.4893  │\n",
       "│ 7   │ 9     │ (loc = 5, glob = 6) │ 33.6869  │\n",
       "│ 8   │ 10    │ (loc = 5, glob = 6) │ 45.802   │\n",
       "│ 9   │ 11    │ (loc = 5, glob = 6) │ 67.1155  │\n",
       "│ 10  │ 12    │ (loc = 5, glob = 6) │ 85.8172  │\n",
       "│ 11  │ 13    │ (loc = 5, glob = 6) │ 134.583  │\n",
       "│ 12  │ 14    │ (loc = 5, glob = 6) │ 198.021  │\n",
       "│ 13  │ 15    │ (loc = 5, glob = 6) │ 320.274  │"
      ]
     },
     "execution_count": 5,
     "metadata": {},
     "output_type": "execute_result"
    }
   ],
   "source": [
    "run_model(mammilary, 3, 15)"
   ]
  },
  {
   "cell_type": "code",
   "execution_count": null,
   "metadata": {},
   "outputs": [],
   "source": []
  }
 ],
 "metadata": {
  "kernelspec": {
   "display_name": "Julia 1.5.0",
   "language": "julia",
   "name": "julia-1.5"
  },
  "language_info": {
   "file_extension": ".jl",
   "mimetype": "application/julia",
   "name": "julia",
   "version": "1.5.2"
  }
 },
 "nbformat": 4,
 "nbformat_minor": 4
}
