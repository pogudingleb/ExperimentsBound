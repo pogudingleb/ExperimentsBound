{
 "cells": [
  {
   "cell_type": "markdown",
   "metadata": {},
   "source": [
    "## Linear compartment models with constant input\n",
    "\n",
    "We consider three series of linear compartment models: cyclic, catenary, and mamillary. For each of the models, we replace each reaction rate $a_{ij}$ with $b_{ij} + c_{ij}x_0$, where $b_{ij}$ and $c_{ij}$ are scalar parameters, and $x_0$ is a constant input. We report the results and runtimes."
   ]
  },
  {
   "cell_type": "code",
   "execution_count": null,
   "metadata": {},
   "outputs": [],
   "source": [
    "using BenchmarkTools\n",
    "using DataFrames\n",
    "include(\"../experiments_bounds.jl\")\n",
    "include(\"linear_compartment.jl\")"
   ]
  },
  {
   "cell_type": "code",
   "execution_count": null,
   "metadata": {},
   "outputs": [],
   "source": [
    "function run_model(func, min_n, max_n)\n",
    "    \"\"\"\n",
    "    func is a function for generating a model:\n",
    "    cycle, catenary, mammilary\n",
    "    min_n and max_n define the range of sizes to test\n",
    "    \"\"\"\n",
    "    results = []\n",
    "    runtimes = []\n",
    "    for n in min_n:max_n\n",
    "        ode = linear_compartment_model(func(n), [1])\n",
    "        x1 = gens(ode.poly_ring)[2]\n",
    "        time = @belapsed bound_number_experiments($ode, [$x1])\n",
    "        bnd = bound_number_experiments(ode, [x1])\n",
    "        push!(results, bnd)\n",
    "        push!(runtimes, time)\n",
    "        print(\"n = $n, result = $bnd, runtime = $time \\n\")\n",
    "    end\n",
    "    return df = DataFrame(n = min_n:max_n, results = results, runtiems = runtimes)\n",
    "end"
   ]
  },
  {
   "cell_type": "code",
   "execution_count": null,
   "metadata": {},
   "outputs": [],
   "source": [
    "run_model(cycle, 3, 15)"
   ]
  },
  {
   "cell_type": "code",
   "execution_count": null,
   "metadata": {},
   "outputs": [],
   "source": [
    "run_model(catenary, 3, 15)"
   ]
  },
  {
   "cell_type": "code",
   "execution_count": null,
   "metadata": {},
   "outputs": [],
   "source": [
    "run_model(mammilary, 3, 15)"
   ]
  },
  {
   "cell_type": "code",
   "execution_count": null,
   "metadata": {},
   "outputs": [],
   "source": []
  }
 ],
 "metadata": {
  "kernelspec": {
   "display_name": "Julia 1.5.2",
   "language": "julia",
   "name": "julia-1.5"
  },
  "language_info": {
   "file_extension": ".jl",
   "mimetype": "application/julia",
   "name": "julia",
   "version": "1.5.2"
  }
 },
 "nbformat": 4,
 "nbformat_minor": 4
}
