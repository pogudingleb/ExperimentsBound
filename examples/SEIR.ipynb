{
 "cells": [
  {
   "cell_type": "markdown",
   "metadata": {},
   "source": [
    "## SEIR model"
   ]
  },
  {
   "cell_type": "code",
   "execution_count": null,
   "metadata": {},
   "outputs": [],
   "source": [
    "using BenchmarkTools\n",
    "include(\"../experiments_bounds.jl\");"
   ]
  },
  {
   "cell_type": "markdown",
   "metadata": {},
   "source": [
    "This example is a modification of SEIR model, equation (2.2) from [this paper](https://doi.org/10.1016/j.mbs.2018.02.004)"
   ]
  },
  {
   "cell_type": "code",
   "execution_count": null,
   "metadata": {},
   "outputs": [],
   "source": [
    "ode = @ODEmodel(\n",
    "    S'(t) = -b * S(t) * I(t) / N(t),\n",
    "    E'(t) = b * S(t) * I(t) / N(t) - nu * E(t),\n",
    "    I'(t) = nu * E(t) - a * I(t),\n",
    "    N'(t) = 0,\n",
    "    c'(t) = 0,\n",
    "    [d]\n",
    "); # d is a parameter appearing only in the output"
   ]
  },
  {
   "cell_type": "code",
   "execution_count": null,
   "metadata": {},
   "outputs": [],
   "source": [
    "# compiles the function and runs a number of times, outputs the mean runtime\n",
    "@btime bound_number_experiments(ode, [c * I + d * E, c, N])"
   ]
  },
  {
   "cell_type": "markdown",
   "metadata": {},
   "source": [
    "By running [SIAN](https://github.com/pogudingleb/SIAN), one can see that more is identifiable from two experiments than from one. Therefore, this bound is **tight**."
   ]
  },
  {
   "cell_type": "code",
   "execution_count": null,
   "metadata": {},
   "outputs": [],
   "source": [
    "print(print_for_SIAN(generate_replica(ode, [c * I + d * E, c, N], 2)...))"
   ]
  },
  {
   "cell_type": "code",
   "execution_count": null,
   "metadata": {},
   "outputs": [],
   "source": []
  }
 ],
 "metadata": {
  "kernelspec": {
   "display_name": "Julia 1.5.2",
   "language": "julia",
   "name": "julia-1.5"
  },
  "language_info": {
   "file_extension": ".jl",
   "mimetype": "application/julia",
   "name": "julia",
   "version": "1.5.2"
  }
 },
 "nbformat": 4,
 "nbformat_minor": 4
}
