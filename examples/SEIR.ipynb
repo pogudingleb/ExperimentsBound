{
 "cells": [
  {
   "cell_type": "code",
   "execution_count": 1,
   "metadata": {},
   "outputs": [
    {
     "data": {
      "text/html": [
       "$\\require{action}$"
      ]
     },
     "metadata": {},
     "output_type": "display_data"
    },
    {
     "name": "stdout",
     "output_type": "stream",
     "text": [
      " -----    -----    -----      -      -----   \n",
      "|     |  |     |  |     |    | |    |     |  \n",
      "|     |  |        |         |   |   |     |  \n",
      "|     |   -----   |        |     |  |-----   \n",
      "|     |        |  |        |-----|  |   |    \n",
      "|     |  |     |  |     |  |     |  |    |   \n",
      " -----    -----    -----   -     -  -     -  \n",
      "\n",
      "...combining (and extending) GAP, Hecke, Nemo, Polymake and Singular\n",
      "Version\u001b[32m 0.3.0 \u001b[39m... \n",
      " ... which comes with absolutely no warranty whatsoever\n",
      "Type: '?Oscar' for more information\n",
      "(c) 2019-2020 by The Oscar Development Team\n"
     ]
    },
    {
     "data": {
      "text/plain": [
       "bound_number_experiments (generic function with 2 methods)"
      ]
     },
     "execution_count": 1,
     "metadata": {},
     "output_type": "execute_result"
    }
   ],
   "source": [
    "using BenchmarkTools\n",
    "include(\"../experiments_bounds.jl\")"
   ]
  },
  {
   "cell_type": "markdown",
   "metadata": {},
   "source": [
    "This example is a modification of SEIR model, equation (2.2) from [this paper](https://doi.org/10.1016/j.mbs.2018.02.004)"
   ]
  },
  {
   "cell_type": "code",
   "execution_count": 2,
   "metadata": {},
   "outputs": [
    {
     "data": {
      "text/html": [
       "(Multivariate Polynomial Ring in 9 variables S, E, I, N, ..., nu over Rational Field, [fmpq_mpoly[S, E, I, N, c, a, b, d, nu])"
      ],
      "text/plain": [
       "(Multivariate Polynomial Ring in 9 variables S, E, I, N, ..., nu over Rational Field, fmpq_mpoly[S, E, I, N, c, a, b, d, nu])"
      ]
     },
     "execution_count": 2,
     "metadata": {},
     "output_type": "execute_result"
    }
   ],
   "source": [
    "varnames = [\"S\", \"E\", \"I\", \"N\", \"c\", \"a\", \"b\", \"d\", \"nu\"]\n",
    "R, (S, E, I, N, c, a, b, d, nu) = PolynomialRing(QQ, varnames)"
   ]
  },
  {
   "cell_type": "code",
   "execution_count": 3,
   "metadata": {},
   "outputs": [
    {
     "data": {
      "text/plain": [
       "ODE(Multivariate Polynomial Ring in 9 variables S, E, I, N, ..., nu over Rational Field, fmpq_mpoly[N, S, I, c, E], Any[], fmpq_mpoly[a, b, d, nu], Dict{fmpq_mpoly,RingElem}(N => 0,S => -S*I*b//(N),I => E*nu - I*a,c => 0,E => (S*I*b - E*N*nu)//(N)))"
      ]
     },
     "execution_count": 3,
     "metadata": {},
     "output_type": "execute_result"
    }
   ],
   "source": [
    "ode = ODE(Dict(\n",
    "    S => -b * S * I // N,\n",
    "    E => b * S * I // N - nu * E,\n",
    "    I => nu * E - a * I,\n",
    "    N => R(0),\n",
    "    c => R(0)\n",
    "), [])"
   ]
  },
  {
   "cell_type": "code",
   "execution_count": 4,
   "metadata": {},
   "outputs": [
    {
     "name": "stdout",
     "output_type": "stream",
     "text": [
      "  39.914 ms (880783 allocations: 60.83 MiB)\n"
     ]
    },
    {
     "data": {
      "text/plain": [
       "(loc = 1, glob = 2)"
      ]
     },
     "execution_count": 4,
     "metadata": {},
     "output_type": "execute_result"
    }
   ],
   "source": [
    "# compiles the function and runs a number of times, outputs the mean runtime\n",
    "@btime bound_number_experiments(ode, [c * I + d * E, c, N])"
   ]
  },
  {
   "cell_type": "code",
   "execution_count": 5,
   "metadata": {},
   "outputs": [
    {
     "data": {
      "text/plain": [
       "(loc = 1, glob = 2)"
      ]
     },
     "execution_count": 5,
     "metadata": {},
     "output_type": "execute_result"
    }
   ],
   "source": [
    "bound_number_experiments(ode, [c * I + d * E, c, N])"
   ]
  },
  {
   "cell_type": "markdown",
   "metadata": {},
   "source": [
    "By running [SIAN](https://github.com/pogudingleb/SIAN), one can see that more is identifiable from two experiments than from one. Therefore, this bound is **tight**."
   ]
  },
  {
   "cell_type": "code",
   "execution_count": null,
   "metadata": {},
   "outputs": [],
   "source": []
  }
 ],
 "metadata": {
  "kernelspec": {
   "display_name": "Julia 1.4.2",
   "language": "julia",
   "name": "julia-1.4"
  },
  "language_info": {
   "file_extension": ".jl",
   "mimetype": "application/julia",
   "name": "julia",
   "version": "1.4.2"
  }
 },
 "nbformat": 4,
 "nbformat_minor": 4
}
