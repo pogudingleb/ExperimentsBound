{
 "cells": [
  {
   "cell_type": "markdown",
   "metadata": {},
   "source": [
    "## SEIR model"
   ]
  },
  {
   "cell_type": "code",
   "execution_count": 1,
   "metadata": {},
   "outputs": [
    {
     "data": {
      "text/html": [
       "$\\require{action}$"
      ]
     },
     "metadata": {},
     "output_type": "display_data"
    },
    {
     "name": "stdout",
     "output_type": "stream",
     "text": [
      " -----    -----    -----      -      -----   \n",
      "|     |  |     |  |     |    | |    |     |  \n",
      "|     |  |        |         |   |   |     |  \n",
      "|     |   -----   |        |     |  |-----   \n",
      "|     |        |  |        |-----|  |   |    \n",
      "|     |  |     |  |     |  |     |  |    |   \n",
      " -----    -----    -----   -     -  -     -  \n",
      "\n",
      "...combining (and extending) ANTIC, GAP, Polymake and Singular\n",
      "Version\u001b[32m 0.5.0 \u001b[39m... \n",
      " ... which comes with absolutely no warranty whatsoever\n",
      "Type: '?Oscar' for more information\n",
      "(c) 2019-2020 by The Oscar Development Team\n"
     ]
    }
   ],
   "source": [
    "using BenchmarkTools\n",
    "include(\"../experiments_bounds.jl\");"
   ]
  },
  {
   "cell_type": "markdown",
   "metadata": {},
   "source": [
    "This example is a modification of SEIR model, equation (2.2) from [this paper](https://doi.org/10.1016/j.mbs.2018.02.004)"
   ]
  },
  {
   "cell_type": "code",
   "execution_count": 2,
   "metadata": {},
   "outputs": [
    {
     "name": "stdout",
     "output_type": "stream",
     "text": [
      "Summary of the model:\n",
      "State variables: I, N, S, c, E\n",
      "Parameter: a, b, nu\n",
      "Inputs: \n"
     ]
    }
   ],
   "source": [
    "ode = @ODEmodel(\n",
    "    S'(t) = -b * S(t) * I(t) / N(t),\n",
    "    E'(t) = b * S(t) * I(t) / N(t) - nu * E(t),\n",
    "    I'(t) = nu * E(t) - a * I(t),\n",
    "    N'(t) = 0,\n",
    "    c'(t) = 0,\n",
    "    [d]\n",
    "); # d is a parameter appearing only in the output"
   ]
  },
  {
   "cell_type": "code",
   "execution_count": 3,
   "metadata": {},
   "outputs": [
    {
     "name": "stdout",
     "output_type": "stream",
     "text": [
      "  43.443 ms (401947 allocations: 43.06 MiB)\n"
     ]
    },
    {
     "data": {
      "text/plain": [
       "(loc = 1, glob = 2)"
      ]
     },
     "execution_count": 3,
     "metadata": {},
     "output_type": "execute_result"
    }
   ],
   "source": [
    "# compiles the function and runs a number of times, outputs the mean runtime\n",
    "@btime bound_number_experiments(ode, [c * I + d * E, c, N])"
   ]
  },
  {
   "cell_type": "markdown",
   "metadata": {},
   "source": [
    "By running [SIAN](https://github.com/pogudingleb/SIAN), one can see that more is identifiable from two experiments than from one. Therefore, this bound is **tight**."
   ]
  },
  {
   "cell_type": "code",
   "execution_count": null,
   "metadata": {},
   "outputs": [],
   "source": [
    "print(print_for_SIAN(generate_replica(ode, [c * I + d * E, c, N], 2)...))"
   ]
  },
  {
   "cell_type": "code",
   "execution_count": null,
   "metadata": {},
   "outputs": [],
   "source": []
  }
 ],
 "metadata": {
  "kernelspec": {
   "display_name": "Julia 1.5.0",
   "language": "julia",
   "name": "julia-1.5"
  },
  "language_info": {
   "file_extension": ".jl",
   "mimetype": "application/julia",
   "name": "julia",
   "version": "1.5.2"
  }
 },
 "nbformat": 4,
 "nbformat_minor": 4
}
